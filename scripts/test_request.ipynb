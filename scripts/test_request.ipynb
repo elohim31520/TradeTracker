{
 "cells": [
  {
   "cell_type": "code",
   "execution_count": null,
   "metadata": {},
   "outputs": [],
   "source": [
    "import requests\n",
    "import json\n",
    "import time\n",
    "\n",
    "# 从 token.txt 文件中读取 token\n",
    "with open('./token.txt', 'r') as file:\n",
    "    token = file.read().strip()\n",
    "\n",
    "# 设置请求头中的 Authorization 标头\n",
    "headers = {\n",
    "    'Authorization': f'Bearer {token}',\n",
    "    'Content-Type': 'application/json'\n",
    "}\n",
    "\n",
    "BASE_URL = 'http://localhost:1234'"
   ]
  },
  {
   "cell_type": "markdown",
   "metadata": {},
   "source": [
    "### 登入"
   ]
  },
  {
   "cell_type": "markdown",
   "metadata": {},
   "source": [
    "### 取得動能指標"
   ]
  },
  {
   "cell_type": "code",
   "execution_count": null,
   "metadata": {},
   "outputs": [],
   "source": [
    "req_url = BASE_URL + '/marketindex/momentum'\n",
    "\n",
    "my_data = []\n",
    "\n",
    "response = requests.get(req_url, headers=headers)\n",
    "\n",
    "if response.status_code == 200:\n",
    "    my_data = response.json()\n",
    "    print('Response data:', my_data)  # 输出响应数据\n",
    "else:\n",
    "    print('Request failed with status code:', response.status_code)"
   ]
  },
  {
   "cell_type": "markdown",
   "metadata": {},
   "source": [
    "#### 畫出動能"
   ]
  },
  {
   "cell_type": "code",
   "execution_count": null,
   "metadata": {},
   "outputs": [],
   "source": [
    "\n",
    "import matplotlib.pyplot as plt\n",
    "import pandas as pd\n",
    "from matplotlib.dates import DateFormatter\n",
    "\n",
    "# 将数据转换为 DataFrame\n",
    "df = pd.DataFrame(my_data)\n",
    "\n",
    "# 将 'createdAt' 列转换为日期时间对象\n",
    "df['createdAt'] = pd.to_datetime(df['createdAt'])\n",
    "\n",
    "# 绘制时间序列数据\n",
    "plt.figure(figsize=(10, 6))\n",
    "plt.plot(df['createdAt'], df['volume'], marker='o', linestyle='-', color='b')\n",
    "\n",
    "# 格式化 x 轴的时间显示\n",
    "plt.gca().xaxis.set_major_formatter(DateFormatter('%Y-%m-%d %H:%M'))\n",
    "\n",
    "# 设置标题和标签\n",
    "plt.title('Time Series Momentum')\n",
    "plt.xlabel('Time')\n",
    "plt.ylabel('Volume')\n",
    "\n",
    "# 显示网格\n",
    "plt.grid(True)\n",
    "\n",
    "# 自动调整 x 轴日期标签显示\n",
    "plt.gcf().autofmt_xdate()\n",
    "\n",
    "# 显示图形\n",
    "plt.show()"
   ]
  },
  {
   "cell_type": "markdown",
   "metadata": {},
   "source": [
    "### 記錄交易"
   ]
  },
  {
   "cell_type": "code",
   "execution_count": null,
   "metadata": {},
   "outputs": [],
   "source": [
    "transactions = [\n",
    "\t(1, 'GOOG', 'sell', 1, 161.82),\n",
    "]"
   ]
  },
  {
   "cell_type": "code",
   "execution_count": null,
   "metadata": {},
   "outputs": [],
   "source": [
    "from datetime import datetime\n",
    "import time \n",
    "\n",
    "# API URL\n",
    "post_url = BASE_URL + '/transactions'\n",
    "\n",
    "# 遍历并逐一发送请求\n",
    "for user_id, stock_id, transaction_type, quantity, price in transactions:\n",
    "    # 准备请求数据\n",
    "    data = {\n",
    "        'stock_id': stock_id,\n",
    "        'transaction_type': transaction_type,\n",
    "        'quantity': quantity,\n",
    "        'price': price,\n",
    "        'transaction_date': datetime.now().strftime('%Y-%m-%d')\n",
    "    }\n",
    "    \n",
    "    # 发送 POST 请求\n",
    "    response = requests.post(post_url, headers=headers, json=data)\n",
    "    \n",
    "    if str(response.status_code).startswith('2'):\n",
    "        print(f'Successfully inserted: {data}')\n",
    "    else:\n",
    "        print(f'Failed to insert: {data}, Status code: {response.status_code}, Response: {response.text}')\n",
    "        \n",
    "    time.sleep(2)"
   ]
  },
  {
   "cell_type": "markdown",
   "metadata": {},
   "source": [
    "### MY Portfolio"
   ]
  },
  {
   "cell_type": "code",
   "execution_count": null,
   "metadata": {},
   "outputs": [],
   "source": [
    "my_portfolio = []\n",
    "portfolio_url = 'http://localhost:1234/portfolio'\n",
    "\n",
    "response = requests.get(portfolio_url, headers=headers)\n",
    "\n",
    "if response.status_code == 200:\n",
    "    my_portfolio = response.json()\n",
    "    print('Response data:', my_portfolio)\n",
    "else:\n",
    "    print('Request failed with status code:', response.status_code)"
   ]
  },
  {
   "cell_type": "code",
   "execution_count": null,
   "metadata": {},
   "outputs": [],
   "source": [
    "import matplotlib.pyplot as plt\n",
    "\n",
    "# 计算每个 stock_id 的总价值\n",
    "portfolio_values = {}\n",
    "for item in my_portfolio:\n",
    "    stock_id = item['stock_id']\n",
    "    quantity = item['quantity']\n",
    "    average_price = float(item['average_price'])  # 转换为浮点数\n",
    "    total_value = quantity * average_price\n",
    "    if stock_id in portfolio_values:\n",
    "        portfolio_values[stock_id] += total_value\n",
    "    else:\n",
    "        portfolio_values[stock_id] = total_value\n",
    "\n",
    "# 计算投资组合中剩余的 USD 价值\n",
    "portfolio_values['USD'] = 3812.6 + 3755.24\n",
    "\n",
    "portfolio_values = {k: v for k, v in portfolio_values.items() if v > 0}\n",
    "\n",
    "sorted_portfolio_values = dict(sorted(portfolio_values.items(), key=lambda item: item[1], reverse=True))\n",
    "\n",
    "# 准备数据绘制饼图\n",
    "labels = sorted_portfolio_values.keys()\n",
    "sizes = sorted_portfolio_values.values()\n",
    "colors = plt.get_cmap('tab10').colors  # 使用预设的颜色映射\n",
    "explode = [0.1] * len(labels)  # 使每个切片稍微突出\n",
    "\n",
    "# 绘制饼图\n",
    "plt.figure(figsize=(10, 7))\n",
    "plt.pie(sizes, explode=explode, labels=labels, autopct='%1.1f%%', colors=colors, startangle=140)\n",
    "plt.title('Portfolio Distribution by Stock')\n",
    "plt.show()"
   ]
  },
  {
   "cell_type": "markdown",
   "metadata": {},
   "source": [
    "### 測試搜新聞"
   ]
  },
  {
   "cell_type": "code",
   "execution_count": null,
   "metadata": {},
   "outputs": [],
   "source": [
    "keyword = 'open'"
   ]
  },
  {
   "cell_type": "code",
   "execution_count": null,
   "metadata": {},
   "outputs": [],
   "source": [
    "news = []\n",
    "portfolio_url = f\"{BASE_URL}/technews/search?keyword={keyword}\"\n",
    "\n",
    "response = requests.get(portfolio_url, headers=headers)\n",
    "\n",
    "if response.status_code == 200:\n",
    "    news = response.json()\n",
    "    news.reverse()\n",
    "    for item in news:\n",
    "        title = item.get('title', 'No Title')\n",
    "        time = item.get('release_time', 'No Time')\n",
    "        print(title + ' ' + time + '\\n')\n",
    "else:\n",
    "    print('Request failed with status code:', response.status_code)"
   ]
  },
  {
   "cell_type": "markdown",
   "metadata": {},
   "source": [
    "#### 讀取Html 轉成json資料"
   ]
  },
  {
   "cell_type": "code",
   "execution_count": null,
   "metadata": {},
   "outputs": [],
   "source": [
    "symbol = 'MSFT'"
   ]
  },
  {
   "cell_type": "code",
   "execution_count": null,
   "metadata": {},
   "outputs": [],
   "source": [
    "from bs4 import BeautifulSoup\n",
    "from datetime import datetime, timezone\n",
    "\n",
    "with open('index.html', 'r', encoding='utf-8') as file:\n",
    "\thtml_content = file.read()\n",
    "\n",
    "soup = BeautifulSoup(html_content, 'html.parser')\n",
    "\n",
    "news = []\n",
    "\n",
    "for row in soup.find_all('tr', class_='cursor-pointer has-label'):\n",
    "\ttime_cell = row.find('td', align='right')\n",
    "\ttime_text = time_cell.get_text(strip=True).replace('Today', '')\n",
    "\n",
    "\tif 'Today' in time_text:\n",
    "\t\ttime_text = time_text.replace('Today', '')\n",
    "\t\tnow = datetime.now(timezone.utc)\n",
    "\t\tdate_str = now.date().isoformat()\n",
    "\telse:\n",
    "\t\tnow = datetime.now(timezone.utc)\n",
    "\t\tdate_str = now.date().isoformat()\n",
    "\n",
    "\ttry:\n",
    "\t\ttime_obj = datetime.strptime(time_text, '%I:%M%p')\n",
    "\t\ttime_24hr = time_obj.strftime('%H:%M:%S')\n",
    "\texcept ValueError:\n",
    "\t\t# 如果时间格式无法解析，使用默认时间\n",
    "\t\ttime_24hr = '00:00:00'\n",
    "\t\t\n",
    "\t# 创建 MySQL 支持的时间字符串\n",
    "\trelease_time = f\"{date_str} {time_24hr}\"\n",
    "\n",
    "\tlink = row.find('a', class_='tab-link-news')\n",
    "\ttitle = link.get_text(strip=True)\n",
    "\tweb_url = link['href']\n",
    "\n",
    "\tpublisher = row.find('span').get_text(strip=True).strip('()')\n",
    "\n",
    "\tnews_item = {\n",
    "        \"title\": title,\n",
    "        \"symbol\": symbol,\n",
    "        \"release_time\": release_time,\n",
    "        \"publisher\": publisher,\n",
    "        \"web_url\": web_url\n",
    "    }\n",
    "\n",
    "\tnews.append(news_item)\n",
    "\n",
    "print(json.dumps(news, indent=4))\n"
   ]
  },
  {
   "cell_type": "markdown",
   "metadata": {},
   "source": [
    "#### 多筆寫入至資料庫 Company_news"
   ]
  },
  {
   "cell_type": "code",
   "execution_count": null,
   "metadata": {},
   "outputs": [],
   "source": [
    "url = BASE_URL + '/company-news/bulk'\n",
    "\n",
    "response = requests.post(url, headers=headers, json=news)\n",
    "\n",
    "print(f\"Status Code: {response.status_code}\")\n",
    "print(\"Response Text:\", response.text)\n",
    "\n",
    "try:\n",
    "    response_data = response.json()\n",
    "    print(json.dumps(response_data, indent=2))\n",
    "except ValueError as e:\n",
    "    # 捕获并打印异常详细信息\n",
    "    print(f\"Failed to parse JSON: {e}\")\n",
    "    print(\"Response Text:\", response.text)"
   ]
  },
  {
   "cell_type": "markdown",
   "metadata": {},
   "source": [
    "#### 單筆寫入"
   ]
  },
  {
   "cell_type": "code",
   "execution_count": null,
   "metadata": {},
   "outputs": [],
   "source": [
    "url = BASE_URL + '/company-news'\n",
    "\n",
    "for params in news:\n",
    "\tresponse = requests.post(url, headers=headers, json=params)\n",
    "\n",
    "\tprint(f\"Status Code: {response.status_code}\")\n",
    "\tprint(\"Response Text:\", response.text)\n",
    "\n",
    "\ttime.sleep(1)"
   ]
  }
 ],
 "metadata": {
  "kernelspec": {
   "display_name": "myenv",
   "language": "python",
   "name": "myenv"
  },
  "language_info": {
   "codemirror_mode": {
    "name": "ipython",
    "version": 3
   },
   "file_extension": ".py",
   "mimetype": "text/x-python",
   "name": "python",
   "nbconvert_exporter": "python",
   "pygments_lexer": "ipython3",
   "version": "3.10.10"
  },
  "orig_nbformat": 4
 },
 "nbformat": 4,
 "nbformat_minor": 2
}
