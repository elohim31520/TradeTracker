{
 "cells": [
  {
   "cell_type": "markdown",
   "metadata": {},
   "source": [
    "## Def"
   ]
  },
  {
   "cell_type": "code",
   "execution_count": null,
   "metadata": {},
   "outputs": [],
   "source": [
    "import os\n",
    "import requests\n",
    "import json\n",
    "import time\n",
    "from datetime import datetime\n",
    "\n",
    "BASE_URL = 'http://localhost:1234'\n",
    "\n",
    "def read_token(file_path='./token.txt'):\n",
    "    try:\n",
    "        with open(file_path, 'r') as file:\n",
    "            return file.read().strip()\n",
    "    except IOError as err:\n",
    "        print(f'Error reading token from file: {err}')\n",
    "        return None\n",
    "    \n",
    "\n",
    "def get_headers(token):\n",
    "    return {\n",
    "        'Authorization': f'Bearer {token}',\n",
    "        'Content-Type': 'application/json'\n",
    "    }\n",
    "\n",
    "token = read_token()\n",
    "\n",
    "def write_token(token):\n",
    "    if not os.path.exists('token.txt'):\n",
    "        with open('token.txt', 'w') as f:\n",
    "            f.write(token)\n",
    "    else:\n",
    "        with open('token.txt', 'w') as f:\n",
    "            f.write(token)\n",
    "        \n",
    "def register(user_name, pwd, email):\n",
    "    try:\n",
    "        response = requests.post(\n",
    "            f'{BASE_URL}/users/register',\n",
    "            json={\n",
    "                'user_name': user_name,\n",
    "                'pwd': pwd,\n",
    "                'email': email,\n",
    "            }\n",
    "        )\n",
    "        response.raise_for_status()\n",
    "        token = response.json().get('token', '')\n",
    "        if token:\n",
    "            write_token(token)\n",
    "    except requests.exceptions.RequestException as err:\n",
    "        print(f'Registration error: {err}')\n",
    "\n",
    "def login(user_name, pwd):\n",
    "    try:\n",
    "        response = requests.post(\n",
    "            f'{BASE_URL}/users/login',\n",
    "            json={\n",
    "                'user_name': user_name,\n",
    "                'pwd': pwd,\n",
    "            }\n",
    "        )\n",
    "        response.raise_for_status()\n",
    "        token = response.json().get('token', '')\n",
    "        if token:\n",
    "            write_token(token)\n",
    "    except requests.exceptions.RequestException as err:\n",
    "        print(f'Login error: {err}')\n",
    "            \n",
    "def get_momentum():\n",
    "    try:\n",
    "        response = requests.get(f'{BASE_URL}/marketindex/momentum', headers=get_headers(token))\n",
    "        response.raise_for_status()\n",
    "        return response.json()\n",
    "    except requests.exceptions.RequestException as err:\n",
    "        print(f'Error fetching momentum: {err}')\n",
    "        return None\n",
    "\n",
    "def record_my_transactions(transactions):\n",
    "    try:\n",
    "        for stock_id, transaction_type, quantity, price in transactions:\n",
    "            data = {\n",
    "                'stock_id': stock_id,\n",
    "                'transaction_type': transaction_type,\n",
    "                'quantity': quantity,\n",
    "                'price': price,\n",
    "                'transaction_date': datetime.now().strftime('%Y-%m-%d')\n",
    "            }\n",
    "            response = requests.post(f'{BASE_URL}/transactions', headers=get_headers(token), json=data)\n",
    "            if response.status_code in range(200, 300):\n",
    "                print(f'Successfully inserted: {data}')\n",
    "            else:\n",
    "                print(f'Failed to insert: {data}, Status code: {response.status_code}, Response: {response.text}')\n",
    "            time.sleep(2)\n",
    "    except requests.exceptions.RequestException as err:\n",
    "        print(f'Error recording transactions: {err}')\n",
    "\n",
    "def get_my_portfolio():\n",
    "    try:\n",
    "        response = requests.get(f'{BASE_URL}/portfolio', headers=get_headers(token))\n",
    "        response.raise_for_status()\n",
    "        return response.json()\n",
    "    except requests.exceptions.RequestException as err:\n",
    "        print(f'Error fetching portfolio: {err}')\n",
    "        return None\n",
    "\n",
    "def get_technews_by_keyword(keyword):\n",
    "    try:\n",
    "        response = requests.get(f\"{BASE_URL}/technews/search?keyword={keyword}\", headers=get_headers(token))\n",
    "        response.raise_for_status()\n",
    "        data = response.json()\n",
    "        return data[::-1]  # 反转列表\n",
    "    except requests.exceptions.RequestException as err:\n",
    "        print(f'Error fetching technews: {err}')\n",
    "        return None\n",
    "    \n",
    "def getAllTechnews (page, size):\n",
    "    if not isinstance(page, int) or not isinstance(size, int) or page <= 0 or size <= 0:\n",
    "        print('Valid page & size required')\n",
    "        return []\n",
    "\n",
    "    params = f\"page={page}&size={size}\"\n",
    "    try:\n",
    "        response = requests.get(f\"{BASE_URL}/technews?{params}\", headers=get_headers(token))\n",
    "        response.raise_for_status()\n",
    "        data = response.json()\n",
    "        return data[::-1]  # 反转列表\n",
    "    except requests.exceptions.RequestException as err:\n",
    "        print(f'Error fetching technews: {err}')\n",
    "        return None"
   ]
  },
  {
   "cell_type": "markdown",
   "metadata": {},
   "source": [
    "### 登入"
   ]
  },
  {
   "cell_type": "code",
   "execution_count": null,
   "metadata": {},
   "outputs": [],
   "source": [
    "login(user_name='lewis7063', pwd='a123456+')"
   ]
  },
  {
   "cell_type": "markdown",
   "metadata": {},
   "source": [
    "#### 註冊"
   ]
  },
  {
   "cell_type": "code",
   "execution_count": null,
   "metadata": {},
   "outputs": [],
   "source": [
    "register(user_name='lewis7063', pwd='a123456+', email='lewis.lee@gmail.com')"
   ]
  },
  {
   "cell_type": "markdown",
   "metadata": {},
   "source": [
    "### 取得動能指標"
   ]
  },
  {
   "cell_type": "code",
   "execution_count": null,
   "metadata": {},
   "outputs": [],
   "source": [
    "my_data = get_momentum()\n",
    "print(my_data)"
   ]
  },
  {
   "cell_type": "markdown",
   "metadata": {},
   "source": [
    "#### 畫出動能"
   ]
  },
  {
   "cell_type": "code",
   "execution_count": null,
   "metadata": {},
   "outputs": [],
   "source": [
    "\n",
    "import matplotlib.pyplot as plt\n",
    "import pandas as pd\n",
    "from matplotlib.dates import DateFormatter\n",
    "\n",
    "# 将数据转换为 DataFrame\n",
    "df = pd.DataFrame(my_data)\n",
    "\n",
    "# 将 'createdAt' 列转换为日期时间对象\n",
    "df['createdAt'] = pd.to_datetime(df['createdAt'])\n",
    "\n",
    "# 绘制时间序列数据\n",
    "plt.figure(figsize=(10, 6))\n",
    "plt.plot(df['createdAt'], df['volume'], marker='o', linestyle='-', color='b')\n",
    "\n",
    "# 格式化 x 轴的时间显示\n",
    "plt.gca().xaxis.set_major_formatter(DateFormatter('%Y-%m-%d %H:%M'))\n",
    "\n",
    "# 设置标题和标签\n",
    "plt.title('Time Series Momentum')\n",
    "plt.xlabel('Time')\n",
    "plt.ylabel('Volume')\n",
    "\n",
    "# 显示网格\n",
    "plt.grid(True)\n",
    "\n",
    "# 自动调整 x 轴日期标签显示\n",
    "plt.gcf().autofmt_xdate()\n",
    "\n",
    "# 显示图形\n",
    "plt.show()"
   ]
  },
  {
   "cell_type": "markdown",
   "metadata": {},
   "source": [
    "### 記錄交易"
   ]
  },
  {
   "cell_type": "code",
   "execution_count": null,
   "metadata": {},
   "outputs": [],
   "source": [
    "transactions = [\n",
    "\t('TEST', 'buy', 1, 161.82),\n",
    "]"
   ]
  },
  {
   "cell_type": "code",
   "execution_count": null,
   "metadata": {},
   "outputs": [],
   "source": [
    "record_my_transactions(transactions)"
   ]
  },
  {
   "cell_type": "markdown",
   "metadata": {},
   "source": [
    "### MY Portfolio"
   ]
  },
  {
   "cell_type": "code",
   "execution_count": null,
   "metadata": {},
   "outputs": [],
   "source": [
    "my_portfolio = get_my_portfolio()\n",
    "print(my_portfolio)"
   ]
  },
  {
   "cell_type": "code",
   "execution_count": null,
   "metadata": {},
   "outputs": [],
   "source": [
    "import matplotlib.pyplot as plt\n",
    "\n",
    "# 计算每个 stock_id 的总价值\n",
    "portfolio_values = {}\n",
    "for item in my_portfolio:\n",
    "    stock_id = item['stock_id']\n",
    "    quantity = item['quantity']\n",
    "    average_price = float(item['average_price'])  # 转换为浮点数\n",
    "    total_value = quantity * average_price\n",
    "    if stock_id in portfolio_values:\n",
    "        portfolio_values[stock_id] += total_value\n",
    "    else:\n",
    "        portfolio_values[stock_id] = total_value\n",
    "\n",
    "# 计算投资组合中剩余的 USD 价值\n",
    "portfolio_values['USD'] = 3812.6 + 3755.24\n",
    "\n",
    "portfolio_values = {k: v for k, v in portfolio_values.items() if v > 0}\n",
    "\n",
    "sorted_portfolio_values = dict(sorted(portfolio_values.items(), key=lambda item: item[1], reverse=True))\n",
    "\n",
    "# 准备数据绘制饼图\n",
    "labels = sorted_portfolio_values.keys()\n",
    "sizes = sorted_portfolio_values.values()\n",
    "colors = plt.get_cmap('tab10').colors  # 使用预设的颜色映射\n",
    "explode = [0.1] * len(labels)  # 使每个切片稍微突出\n",
    "\n",
    "# 绘制饼图\n",
    "plt.figure(figsize=(10, 7))\n",
    "plt.pie(sizes, explode=explode, labels=labels, autopct='%1.1f%%', colors=colors, startangle=140)\n",
    "plt.title('Portfolio Distribution by Stock')\n",
    "plt.show()"
   ]
  },
  {
   "cell_type": "markdown",
   "metadata": {},
   "source": [
    "### 測試搜新聞"
   ]
  },
  {
   "cell_type": "code",
   "execution_count": null,
   "metadata": {},
   "outputs": [],
   "source": [
    "keyword = 'amd'\n",
    "\n",
    "news = get_technews_by_keyword(keyword)\n",
    "\n",
    "for item in news:\n",
    "\ttitle = item.get('title', 'No Title')\n",
    "\ttime = item.get('release_time', 'No Time')\n",
    "\tweb_url = item.get('web_url', '')\n",
    "\tprint(title + ' ' + time + '\\n')\n",
    "\tprint(web_url + '\\n')"
   ]
  },
  {
   "cell_type": "code",
   "execution_count": null,
   "metadata": {},
   "outputs": [],
   "source": [
    "all_news = getAllTechnews(page=1, size=200)\n",
    "for item in all_news:\n",
    "\ttitle = item.get('title', 'No Title')\n",
    "\ttime = item.get('release_time', 'No Time')\n",
    "\tweb_url = item.get('web_url', '')\n",
    "\tprint(title + ' ' + time + '\\n')\n",
    "\tprint(web_url + '\\n')"
   ]
  },
  {
   "cell_type": "markdown",
   "metadata": {},
   "source": [
    "#### 讀取Html 轉成json資料"
   ]
  },
  {
   "cell_type": "code",
   "execution_count": null,
   "metadata": {},
   "outputs": [],
   "source": [
    "symbol = 'AMZN'"
   ]
  },
  {
   "cell_type": "code",
   "execution_count": null,
   "metadata": {},
   "outputs": [],
   "source": [
    "from bs4 import BeautifulSoup\n",
    "from datetime import datetime, timezone\n",
    "\n",
    "with open('index.html', 'r', encoding='utf-8') as file:\n",
    "\thtml_content = file.read()\n",
    "\n",
    "soup = BeautifulSoup(html_content, 'html.parser')\n",
    "\n",
    "news = []\n",
    "\n",
    "for row in soup.find_all('tr', class_='cursor-pointer has-label'):\n",
    "\ttime_cell = row.find('td', align='right')\n",
    "\ttime_text = time_cell.get_text(strip=True).replace('Today', '')\n",
    "\n",
    "\tif 'Today' in time_text:\n",
    "\t\ttime_text = time_text.replace('Today', '')\n",
    "\t\tnow = datetime.now(timezone.utc)\n",
    "\t\tdate_str = now.date().isoformat()\n",
    "\telse:\n",
    "\t\tnow = datetime.now(timezone.utc)\n",
    "\t\tdate_str = now.date().isoformat()\n",
    "\n",
    "\ttry:\n",
    "\t\ttime_obj = datetime.strptime(time_text, '%I:%M%p')\n",
    "\t\ttime_24hr = time_obj.strftime('%H:%M:%S')\n",
    "\texcept ValueError:\n",
    "\t\t# 如果时间格式无法解析，使用默认时间\n",
    "\t\ttime_24hr = '00:00:00'\n",
    "\t\t\n",
    "\t# 创建 MySQL 支持的时间字符串\n",
    "\trelease_time = f\"{date_str} {time_24hr}\"\n",
    "\n",
    "\tlink = row.find('a', class_='tab-link-news')\n",
    "\ttitle = link.get_text(strip=True)\n",
    "\tweb_url = link['href']\n",
    "\n",
    "\tpublisher = row.find('span').get_text(strip=True).strip('()')\n",
    "\n",
    "\tnews_item = {\n",
    "        \"title\": title,\n",
    "        \"symbol\": symbol,\n",
    "        \"release_time\": release_time,\n",
    "        \"publisher\": publisher,\n",
    "        \"web_url\": web_url\n",
    "    }\n",
    "\n",
    "\tnews.append(news_item)\n",
    "\n",
    "print(json.dumps(news, indent=4))\n"
   ]
  },
  {
   "cell_type": "markdown",
   "metadata": {},
   "source": [
    "#### 多筆寫入至資料庫 Company_news"
   ]
  },
  {
   "cell_type": "code",
   "execution_count": null,
   "metadata": {},
   "outputs": [],
   "source": [
    "url = BASE_URL + '/company-news/bulk'\n",
    "\n",
    "response = requests.post(url, headers=headers, json=news)\n",
    "\n",
    "print(f\"Status Code: {response.status_code}\")\n",
    "print(\"Response Text:\", response.text)\n",
    "\n",
    "try:\n",
    "    response_data = response.json()\n",
    "    print(json.dumps(response_data, indent=2))\n",
    "except ValueError as e:\n",
    "    # 捕获并打印异常详细信息\n",
    "    print(f\"Failed to parse JSON: {e}\")\n",
    "    print(\"Response Text:\", response.text)"
   ]
  },
  {
   "cell_type": "markdown",
   "metadata": {},
   "source": [
    "#### 單筆寫入"
   ]
  },
  {
   "cell_type": "code",
   "execution_count": null,
   "metadata": {},
   "outputs": [],
   "source": [
    "url = BASE_URL + '/company-news'\n",
    "\n",
    "for params in news:\n",
    "\tresponse = requests.post(url, headers=headers, json=params)\n",
    "\n",
    "\tprint(f\"Status Code: {response.status_code}\")\n",
    "\tprint(\"Response Text:\", response.text)\n",
    "\n",
    "\ttime.sleep(1)"
   ]
  },
  {
   "cell_type": "markdown",
   "metadata": {},
   "source": [
    "#### 取得statement"
   ]
  },
  {
   "cell_type": "code",
   "execution_count": null,
   "metadata": {},
   "outputs": [],
   "source": [
    "symbo = 'amd'"
   ]
  },
  {
   "cell_type": "code",
   "execution_count": null,
   "metadata": {},
   "outputs": [],
   "source": [
    "req_url = f\"{BASE_URL}/statements/{symbo}\"\n",
    "\n",
    "response = requests.get(req_url, headers=headers)\n",
    "\n",
    "if response.status_code == 200:\n",
    "    data = response.json()\n",
    "    data.reverse()\n",
    "    for item in data:\n",
    "        pef = item.get('PE_Forward', 'No PE_Forward')\n",
    "        symbo = item.get('symbo', 'No symbo')\n",
    "        time = item.get('createdAt', 'No Time')\n",
    "        print(symbo + ' === Forward PE : ' + pef + '   ' +  time + '\\n')\n",
    "else:\n",
    "    print('Request failed with status code:', response.status_code)"
   ]
  }
 ],
 "metadata": {
  "kernelspec": {
   "display_name": "myenv",
   "language": "python",
   "name": "myenv"
  },
  "language_info": {
   "codemirror_mode": {
    "name": "ipython",
    "version": 3
   },
   "file_extension": ".py",
   "mimetype": "text/x-python",
   "name": "python",
   "nbconvert_exporter": "python",
   "pygments_lexer": "ipython3",
   "version": "3.10.10"
  },
  "orig_nbformat": 4
 },
 "nbformat": 4,
 "nbformat_minor": 2
}
