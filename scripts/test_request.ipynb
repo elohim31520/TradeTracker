{
 "cells": [
  {
   "cell_type": "code",
   "execution_count": null,
   "metadata": {},
   "outputs": [],
   "source": [
    "import requests\n",
    "\n",
    "# 从 token.txt 文件中读取 token\n",
    "with open('./token.txt', 'r') as file:\n",
    "    token = file.read().strip()\n",
    "\n",
    "# 设置请求头中的 Authorization 标头\n",
    "headers = {\n",
    "    'Authorization': f'Bearer {token}'\n",
    "}\n",
    "\n",
    "url = 'http://localhost:1234/marketindex/momentum'"
   ]
  },
  {
   "cell_type": "code",
   "execution_count": null,
   "metadata": {},
   "outputs": [],
   "source": [
    "my_data = []\n",
    "\n",
    "response = requests.get(url, headers=headers)\n",
    "\n",
    "if response.status_code == 200:\n",
    "    my_data = response.json()\n",
    "    print('Response data:', my_data)  # 输出响应数据\n",
    "else:\n",
    "    print('Request failed with status code:', response.status_code)"
   ]
  },
  {
   "cell_type": "code",
   "execution_count": null,
   "metadata": {},
   "outputs": [],
   "source": [
    "import pandas as pd\n",
    "\n",
    "df = pd.DataFrame(my_data)\n",
    "df.to_excel('momentum_data.xlsx', index=False)"
   ]
  },
  {
   "cell_type": "code",
   "execution_count": null,
   "metadata": {},
   "outputs": [],
   "source": [
    "\n",
    "import matplotlib.pyplot as plt\n",
    "import pandas as pd\n",
    "from matplotlib.dates import DateFormatter\n",
    "\n",
    "# 将数据转换为 DataFrame\n",
    "df = pd.DataFrame(my_data)\n",
    "\n",
    "# 将 'createdAt' 列转换为日期时间对象\n",
    "df['createdAt'] = pd.to_datetime(df['createdAt'])\n",
    "\n",
    "# 绘制时间序列数据\n",
    "plt.figure(figsize=(10, 6))\n",
    "plt.plot(df['createdAt'], df['volume'], marker='o', linestyle='-', color='b')\n",
    "\n",
    "# 格式化 x 轴的时间显示\n",
    "plt.gca().xaxis.set_major_formatter(DateFormatter('%Y-%m-%d %H:%M'))\n",
    "\n",
    "# 设置标题和标签\n",
    "plt.title('Time Series Momentum')\n",
    "plt.xlabel('Time')\n",
    "plt.ylabel('Volume')\n",
    "\n",
    "# 显示网格\n",
    "plt.grid(True)\n",
    "\n",
    "# 自动调整 x 轴日期标签显示\n",
    "plt.gcf().autofmt_xdate()\n",
    "\n",
    "# 显示图形\n",
    "plt.show()"
   ]
  },
  {
   "cell_type": "markdown",
   "metadata": {},
   "source": [
    "### Record My Transactions"
   ]
  },
  {
   "cell_type": "code",
   "execution_count": null,
   "metadata": {},
   "outputs": [],
   "source": [
    "transactions = [\n",
    "\t(1, 'NVDA', 'buy', 1, 100.82),\n",
    "]"
   ]
  },
  {
   "cell_type": "code",
   "execution_count": null,
   "metadata": {},
   "outputs": [],
   "source": [
    "from datetime import datetime\n",
    "import time \n",
    "\n",
    "# API URL\n",
    "transaction_url = 'http://localhost:1234/transactions'\n",
    "\n",
    "# 遍历并逐一发送请求\n",
    "for user_id, stock_id, transaction_type, quantity, price in transactions:\n",
    "    # 准备请求数据\n",
    "    data = {\n",
    "        'stock_id': stock_id,\n",
    "        'transaction_type': transaction_type,\n",
    "        'quantity': quantity,\n",
    "        'price': price,\n",
    "        'transaction_date': datetime.now().strftime('%Y-%m-%d')\n",
    "    }\n",
    "    \n",
    "    # 发送 POST 请求\n",
    "    response = requests.post(transaction_url, headers=headers, json=data)\n",
    "    \n",
    "    if str(response.status_code).startswith('2'):\n",
    "        print(f'Successfully inserted: {data}')\n",
    "    else:\n",
    "        print(f'Failed to insert: {data}, Status code: {response.status_code}, Response: {response.text}')\n",
    "        \n",
    "    time.sleep(2)"
   ]
  },
  {
   "cell_type": "markdown",
   "metadata": {},
   "source": [
    "### MY Portfolio"
   ]
  },
  {
   "cell_type": "code",
   "execution_count": null,
   "metadata": {},
   "outputs": [],
   "source": [
    "my_portfolio = []\n",
    "portfolio_url = 'http://localhost:1234/portfolio'\n",
    "\n",
    "response = requests.get(portfolio_url, headers=headers)\n",
    "\n",
    "if response.status_code == 200:\n",
    "    my_portfolio = response.json()\n",
    "    print('Response data:', my_portfolio)\n",
    "else:\n",
    "    print('Request failed with status code:', response.status_code)"
   ]
  },
  {
   "cell_type": "code",
   "execution_count": null,
   "metadata": {},
   "outputs": [],
   "source": [
    "import matplotlib.pyplot as plt\n",
    "\n",
    "# 计算每个 stock_id 的总价值\n",
    "portfolio_values = {}\n",
    "for item in my_portfolio:\n",
    "    stock_id = item['stock_id']\n",
    "    quantity = item['quantity']\n",
    "    average_price = float(item['average_price'])  # 转换为浮点数\n",
    "    total_value = quantity * average_price\n",
    "    if stock_id in portfolio_values:\n",
    "        portfolio_values[stock_id] += total_value\n",
    "    else:\n",
    "        portfolio_values[stock_id] = total_value\n",
    "\n",
    "# 计算投资组合中剩余的 USD 价值\n",
    "portfolio_values['USD'] = 3812.6 + 3755.24\n",
    "\n",
    "portfolio_values = {k: v for k, v in portfolio_values.items() if v > 0}\n",
    "\n",
    "sorted_portfolio_values = dict(sorted(portfolio_values.items(), key=lambda item: item[1], reverse=True))\n",
    "\n",
    "# 准备数据绘制饼图\n",
    "labels = sorted_portfolio_values.keys()\n",
    "sizes = sorted_portfolio_values.values()\n",
    "colors = plt.get_cmap('tab10').colors  # 使用预设的颜色映射\n",
    "explode = [0.1] * len(labels)  # 使每个切片稍微突出\n",
    "\n",
    "# 绘制饼图\n",
    "plt.figure(figsize=(10, 7))\n",
    "plt.pie(sizes, explode=explode, labels=labels, autopct='%1.1f%%', colors=colors, startangle=140)\n",
    "plt.title('Portfolio Distribution by Stock')\n",
    "plt.show()"
   ]
  },
  {
   "cell_type": "markdown",
   "metadata": {},
   "source": [
    "### 測試搜新聞"
   ]
  },
  {
   "cell_type": "code",
   "execution_count": null,
   "metadata": {},
   "outputs": [],
   "source": [
    "news = []\n",
    "portfolio_url = 'http://localhost:1234/technews/search?keyword=ai'\n",
    "\n",
    "response = requests.get(portfolio_url, headers=headers)\n",
    "\n",
    "if response.status_code == 200:\n",
    "    news = response.json()\n",
    "    for item in news:\n",
    "        title = item.get('title', 'No Title')  # 提取标题字段，如果没有标题则使用 'No Title'\n",
    "        print(title + '\\n')\n",
    "else:\n",
    "    print('Request failed with status code:', response.status_code)"
   ]
  }
 ],
 "metadata": {
  "kernelspec": {
   "display_name": "myenv",
   "language": "python",
   "name": "myenv"
  },
  "language_info": {
   "codemirror_mode": {
    "name": "ipython",
    "version": 3
   },
   "file_extension": ".py",
   "mimetype": "text/x-python",
   "name": "python",
   "nbconvert_exporter": "python",
   "pygments_lexer": "ipython3",
   "version": "3.10.10"
  },
  "orig_nbformat": 4
 },
 "nbformat": 4,
 "nbformat_minor": 2
}
