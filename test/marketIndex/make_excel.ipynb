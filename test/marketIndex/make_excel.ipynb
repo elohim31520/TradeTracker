{
 "cells": [
  {
   "cell_type": "code",
   "execution_count": 1,
   "metadata": {},
   "outputs": [],
   "source": [
    "import requests\n",
    "\n",
    "# 从 token.txt 文件中读取 token\n",
    "with open('../token.txt', 'r') as file:\n",
    "    token = file.read().strip()\n",
    "\n",
    "# 设置请求头中的 Authorization 标头\n",
    "headers = {\n",
    "    'Authorization': f'Bearer {token}'\n",
    "}\n",
    "\n",
    "url = 'http://localhost:1234/marketindex/momentum'"
   ]
  },
  {
   "cell_type": "code",
   "execution_count": 2,
   "metadata": {},
   "outputs": [
    {
     "name": "stdout",
     "output_type": "stream",
     "text": [
      "Response data: [{'momentum': 1.6263000000000005, 'createdAt': '2024-03-27 04'}, {'momentum': 3.990000000000009, 'createdAt': '2024-03-27 06'}, {'momentum': -0.10210000000000719, 'createdAt': '2024-03-27 07'}, {'momentum': -0.28999999999999204, 'createdAt': '2024-03-27 08'}, {'momentum': 0.3359999999999985, 'createdAt': '2024-03-27 09'}, {'momentum': 2.432000000000002, 'createdAt': '2024-03-28 02'}, {'momentum': 0.9215000000000089, 'createdAt': '2024-03-28 03'}, {'momentum': 5.290099999999995, 'createdAt': '2024-03-28 04'}, {'momentum': 14.285899999999998, 'createdAt': '2024-03-28 06'}, {'momentum': 20.92349999999999, 'createdAt': '2024-03-28 08'}, {'momentum': 24.677900000000008, 'createdAt': '2024-03-28 09'}, {'momentum': -0.016899999999992588, 'createdAt': '2024-03-29 02'}, {'momentum': -0.4405000000000001, 'createdAt': '2024-03-29 03'}, {'momentum': -1.1271999999999878, 'createdAt': '2024-03-29 04'}, {'momentum': -0.4963999999999942, 'createdAt': '2024-03-29 06'}, {'momentum': -6.3603999999999985, 'createdAt': '2024-03-29 07'}, {'momentum': -3.8452000000000055, 'createdAt': '2024-03-29 08'}, {'momentum': -8.182100000000005, 'createdAt': '2024-03-29 09'}, {'momentum': -3.76400000000001, 'createdAt': '2024-03-29 10'}, {'momentum': -0.003200000000006753, 'createdAt': '2024-04-01 02'}, {'momentum': -0.3365000000000009, 'createdAt': '2024-04-01 03'}, {'momentum': -0.8489000000000004, 'createdAt': '2024-04-01 04'}, {'momentum': -11.973199999999991, 'createdAt': '2024-04-01 06'}, {'momentum': -10.501199999999997, 'createdAt': '2024-04-01 07'}, {'momentum': -14.747199999999992, 'createdAt': '2024-04-01 08'}, {'momentum': -15.5261, 'createdAt': '2024-04-01 09'}, {'momentum': -12.685699999999997, 'createdAt': '2024-04-01 10'}, {'momentum': -65.93449999999999, 'createdAt': '2024-04-02 02'}]\n"
     ]
    }
   ],
   "source": [
    "my_data = []\n",
    "\n",
    "response = requests.get(url, headers=headers)\n",
    "\n",
    "if response.status_code == 200:\n",
    "    my_data = response.json()\n",
    "    print('Response data:', my_data)  # 输出响应数据\n",
    "else:\n",
    "    print('Request failed with status code:', response.status_code)"
   ]
  },
  {
   "cell_type": "code",
   "execution_count": 3,
   "metadata": {},
   "outputs": [],
   "source": [
    "import pandas as pd\n",
    "\n",
    "df = pd.DataFrame(my_data)\n",
    "df.to_excel('momentum_data.xlsx', index=False)"
   ]
  }
 ],
 "metadata": {
  "kernelspec": {
   "display_name": "myenv",
   "language": "python",
   "name": "myenv"
  },
  "language_info": {
   "codemirror_mode": {
    "name": "ipython",
    "version": 3
   },
   "file_extension": ".py",
   "mimetype": "text/x-python",
   "name": "python",
   "nbconvert_exporter": "python",
   "pygments_lexer": "ipython3",
   "version": "3.10.10"
  },
  "orig_nbformat": 4
 },
 "nbformat": 4,
 "nbformat_minor": 2
}
