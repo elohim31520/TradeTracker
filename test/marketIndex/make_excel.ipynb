{
 "cells": [
  {
   "cell_type": "code",
   "execution_count": 1,
   "metadata": {},
   "outputs": [],
   "source": [
    "import requests\n",
    "\n",
    "# 从 token.txt 文件中读取 token\n",
    "with open('../token.txt', 'r') as file:\n",
    "    token = file.read().strip()\n",
    "\n",
    "# 设置请求头中的 Authorization 标头\n",
    "headers = {\n",
    "    'Authorization': f'Bearer {token}'\n",
    "}\n",
    "\n",
    "url = 'http://localhost:1234/marketindex/momentum'"
   ]
  },
  {
   "cell_type": "code",
   "execution_count": 4,
   "metadata": {},
   "outputs": [
    {
     "name": "stdout",
     "output_type": "stream",
     "text": [
      "Response data: [{'momentum': 45.889811990411886, 'createdAt': '2024-03-27 04'}, {'momentum': 46.41152866495091, 'createdAt': '2024-03-27 06'}, {'momentum': 45.5083189497243, 'createdAt': '2024-03-27 07'}, {'momentum': 45.4668455972913, 'createdAt': '2024-03-27 08'}, {'momentum': 45.60501653195368, 'createdAt': '2024-03-27 09'}, {'momentum': 46.0676463706954, 'createdAt': '2024-03-28 02'}, {'momentum': 45.734248292728125, 'createdAt': '2024-03-28 03'}, {'momentum': 46.69848718276967, 'createdAt': '2024-03-28 04'}, {'momentum': 48.68404324352957, 'createdAt': '2024-03-28 06'}, {'momentum': 50.149096591636436, 'createdAt': '2024-03-28 08'}, {'momentum': 50.977769047062, 'createdAt': '2024-03-28 09'}, {'momentum': 45.527124322940324, 'createdAt': '2024-03-29 02'}, {'momentum': 45.43362718568318, 'createdAt': '2024-03-29 03'}, {'momentum': 45.28205852620613, 'createdAt': '2024-03-29 04'}, {'momentum': 45.42128891851445, 'createdAt': '2024-03-29 06'}, {'momentum': 44.12698482768363, 'createdAt': '2024-03-29 07'}, {'momentum': 44.68214063417369, 'createdAt': '2024-03-29 08'}, {'momentum': 43.72489857900243, 'createdAt': '2024-03-29 09'}, {'momentum': 44.70006312601805, 'createdAt': '2024-03-29 10'}, {'momentum': 45.530148191638204, 'createdAt': '2024-04-01 02'}, {'momentum': 45.45658210134596, 'createdAt': '2024-04-01 03'}, {'momentum': 45.343484997638285, 'createdAt': '2024-04-01 04'}, {'momentum': 42.888125686992026, 'createdAt': '2024-04-01 06'}, {'momentum': 43.21302603175721, 'createdAt': '2024-04-01 07'}, {'momentum': 42.275847455756576, 'createdAt': '2024-04-01 08'}, {'momentum': 42.10392838066312, 'createdAt': '2024-04-01 09'}, {'momentum': 42.73086244266787, 'createdAt': '2024-04-01 10'}, {'momentum': 30.97776904706197, 'createdAt': '2024-04-02 02'}]\n"
     ]
    }
   ],
   "source": [
    "my_data = []\n",
    "\n",
    "response = requests.get(url, headers=headers)\n",
    "\n",
    "if response.status_code == 200:\n",
    "    my_data = response.json()\n",
    "    print('Response data:', my_data)  # 输出响应数据\n",
    "else:\n",
    "    print('Request failed with status code:', response.status_code)"
   ]
  },
  {
   "cell_type": "code",
   "execution_count": 3,
   "metadata": {},
   "outputs": [],
   "source": [
    "import pandas as pd\n",
    "\n",
    "df = pd.DataFrame(my_data)\n",
    "df.to_excel('momentum_data.xlsx', index=False)"
   ]
  }
 ],
 "metadata": {
  "kernelspec": {
   "display_name": "myenv",
   "language": "python",
   "name": "myenv"
  },
  "language_info": {
   "codemirror_mode": {
    "name": "ipython",
    "version": 3
   },
   "file_extension": ".py",
   "mimetype": "text/x-python",
   "name": "python",
   "nbconvert_exporter": "python",
   "pygments_lexer": "ipython3",
   "version": "3.10.10"
  },
  "orig_nbformat": 4
 },
 "nbformat": 4,
 "nbformat_minor": 2
}
