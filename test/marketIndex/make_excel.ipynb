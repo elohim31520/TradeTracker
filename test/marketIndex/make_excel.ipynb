{
 "cells": [
  {
   "cell_type": "code",
   "execution_count": 14,
   "metadata": {},
   "outputs": [],
   "source": [
    "import requests\n",
    "\n",
    "# 从 token.txt 文件中读取 token\n",
    "with open('../token.txt', 'r') as file:\n",
    "    token = file.read().strip()\n",
    "\n",
    "# 设置请求头中的 Authorization 标头\n",
    "headers = {\n",
    "    'Authorization': f'Bearer {token}'\n",
    "}\n",
    "\n",
    "url = 'http://localhost:1234/marketindex/momentum'"
   ]
  },
  {
   "cell_type": "code",
   "execution_count": 15,
   "metadata": {},
   "outputs": [
    {
     "name": "stdout",
     "output_type": "stream",
     "text": [
      "Response data: [{'momentum': -24.36376825930691, 'createdAt': '2024-03-27 04'}, {'momentum': -23.164684426926, 'createdAt': '2024-03-27 06'}, {'momentum': -25.24057009367131, 'createdAt': '2024-03-27 07'}, {'momentum': -25.335890080177364, 'createdAt': '2024-03-27 08'}, {'momentum': -25.01832588883734, 'createdAt': '2024-03-27 09'}, {'momentum': -23.955043867992742, 'createdAt': '2024-03-28 02'}, {'momentum': -24.721306984636712, 'createdAt': '2024-03-28 03'}, {'momentum': -22.505155345198887, 'createdAt': '2024-03-28 04'}, {'momentum': -17.9416666032553, 'createdAt': '2024-03-28 06'}, {'momentum': -14.574471592969985, 'createdAt': '2024-03-28 08'}, {'momentum': -12.66989811059453, 'createdAt': '2024-03-28 09'}, {'momentum': -25.197348897022465, 'createdAt': '2024-03-29 02'}, {'momentum': -25.4122373817695, 'createdAt': '2024-03-29 03'}, {'momentum': -25.76059413926663, 'createdAt': '2024-03-29 04'}, {'momentum': -25.440594950932294, 'createdAt': '2024-03-29 06'}, {'momentum': -28.415349612302833, 'createdAt': '2024-03-29 07'}, {'momentum': -27.139411187289326, 'createdAt': '2024-03-29 08'}, {'momentum': -29.33948170074396, 'createdAt': '2024-03-29 09'}, {'momentum': -27.098219154802422, 'createdAt': '2024-03-29 10'}, {'momentum': -25.1903990097679, 'createdAt': '2024-04-01 02'}, {'momentum': -25.359479113559658, 'createdAt': '2024-04-01 03'}, {'momentum': -25.619415042701235, 'createdAt': '2024-04-01 04'}, {'momentum': -31.26267276430498, 'createdAt': '2024-04-01 06'}, {'momentum': -30.51594035271947, 'createdAt': '2024-04-01 07'}, {'momentum': -32.66989811059453, 'createdAt': '2024-04-01 08'}]\n"
     ]
    }
   ],
   "source": [
    "my_data = []\n",
    "\n",
    "response = requests.get(url, headers=headers)\n",
    "\n",
    "if response.status_code == 200:\n",
    "    my_data = response.json()\n",
    "    print('Response data:', my_data)  # 输出响应数据\n",
    "else:\n",
    "    print('Request failed with status code:', response.status_code)"
   ]
  },
  {
   "cell_type": "code",
   "execution_count": 13,
   "metadata": {},
   "outputs": [],
   "source": [
    "import pandas as pd\n",
    "\n",
    "df = pd.DataFrame(my_data)\n",
    "df.to_excel('momentum_data.xlsx', index=False)"
   ]
  }
 ],
 "metadata": {
  "kernelspec": {
   "display_name": "myenv",
   "language": "python",
   "name": "myenv"
  },
  "language_info": {
   "codemirror_mode": {
    "name": "ipython",
    "version": 3
   },
   "file_extension": ".py",
   "mimetype": "text/x-python",
   "name": "python",
   "nbconvert_exporter": "python",
   "pygments_lexer": "ipython3",
   "version": "3.10.10"
  },
  "orig_nbformat": 4
 },
 "nbformat": 4,
 "nbformat_minor": 2
}
