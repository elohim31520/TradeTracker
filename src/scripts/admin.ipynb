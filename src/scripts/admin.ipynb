{
 "cells": [
  {
   "cell_type": "code",
   "execution_count": 54,
   "metadata": {},
   "outputs": [],
   "source": [
    "import os\n",
    "import requests\n",
    "from api_util import read_token, BASE_URL, get_headers\n",
    "\n",
    "BASE_URL = 'http://localhost:1234'\n",
    "\n",
    "token = read_token()\n",
    "\n",
    "def _make_get_request(endpoint, params=None, quiet=None):\n",
    "    \"\"\"共用的 HTTP GET 請求處理函數\"\"\"\n",
    "    try:\n",
    "        response = requests.get(f\"{BASE_URL}/{endpoint}\", headers=get_headers(token), params=params)\n",
    "        response.raise_for_status()\n",
    "        result = response.json()\n",
    "        if not quiet: \n",
    "            print(result)\n",
    "        return result\n",
    "    except requests.exceptions.RequestException as err:\n",
    "        print(f\"Request failed: {err}\")\n",
    "        return None\n",
    "    \n",
    "def _make_post_request(endpoint, data, quiet=None):\n",
    "\ttry:\n",
    "\t\tresponse = requests.post(f\"{BASE_URL}{endpoint}\", headers=get_headers(token), json=data)\n",
    "\t\tresponse.raise_for_status()\n",
    "\t\tresult = response.json()\n",
    "\t\tif not quiet: \n",
    "\t\t\tprint(result)\n",
    "\t\treturn result\n",
    "\texcept requests.exceptions.RequestException as err:\n",
    "\t\tprint(f\"Request failed: {err}\")\n",
    "\t\treturn None\n",
    "\n",
    "def get_all_users ():\n",
    "    res = _make_get_request('/admin/users')\n",
    "    return res\n",
    "    \n",
    "def set_user_as_admin(userId):\n",
    "\tres = _make_post_request(f'/admin/set-admin', {\n",
    "        'userId': userId\n",
    "\t})\n",
    "\treturn res.get('data')\n",
    "\n",
    "#移除管理員權限\n",
    "def remove_admin(userId):\n",
    "\ttry:\n",
    "\t\tresponse = requests.delete(f\"{BASE_URL}/admin/admin/{userId}\", headers=get_headers(token))\n",
    "\t\tresponse.raise_for_status()\n",
    "\t\tresult = response.json()\n",
    "\t\tprint(result)\n",
    "\t\treturn result\n",
    "\texcept requests.exceptions.RequestException as err:\n",
    "\t\tprint(f\"Request failed: {err}\")\n",
    "\t\treturn None\n",
    "            \n",
    "def remove_user(userId):\n",
    "\ttry:\n",
    "\t\tresponse = requests.delete(f\"{BASE_URL}/admin/user/{userId}\", headers=get_headers(token))\n",
    "\t\tresponse.raise_for_status()\n",
    "\t\tresult = response.json()\n",
    "\t\tprint(result)\n",
    "\t\treturn result\n",
    "\texcept requests.exceptions.RequestException as err:\n",
    "\t\tprint(f\"Request failed: {err}\")\n",
    "\t\treturn None"
   ]
  },
  {
   "cell_type": "code",
   "execution_count": null,
   "metadata": {},
   "outputs": [],
   "source": [
    "get_all_users()"
   ]
  },
  {
   "cell_type": "code",
   "execution_count": null,
   "metadata": {},
   "outputs": [],
   "source": [
    "set_user_as_admin(56)"
   ]
  },
  {
   "cell_type": "code",
   "execution_count": 52,
   "metadata": {},
   "outputs": [
    {
     "name": "stdout",
     "output_type": "stream",
     "text": [
      "{'code': 200, 'message': '已成功移除管理員權限', 'data': None}\n"
     ]
    },
    {
     "data": {
      "text/plain": [
       "{'code': 200, 'message': '已成功移除管理員權限', 'data': None}"
      ]
     },
     "execution_count": 52,
     "metadata": {},
     "output_type": "execute_result"
    }
   ],
   "source": [
    "remove_admin(89)"
   ]
  },
  {
   "cell_type": "code",
   "execution_count": 55,
   "metadata": {},
   "outputs": [
    {
     "name": "stdout",
     "output_type": "stream",
     "text": [
      "{'code': 200, 'message': '用戶已成功刪除', 'data': None}\n"
     ]
    },
    {
     "data": {
      "text/plain": [
       "{'code': 200, 'message': '用戶已成功刪除', 'data': None}"
      ]
     },
     "execution_count": 55,
     "metadata": {},
     "output_type": "execute_result"
    }
   ],
   "source": [
    "remove_user(89)"
   ]
  }
 ],
 "metadata": {
  "kernelspec": {
   "display_name": "Python 3",
   "language": "python",
   "name": "python3"
  },
  "language_info": {
   "codemirror_mode": {
    "name": "ipython",
    "version": 3
   },
   "file_extension": ".py",
   "mimetype": "text/x-python",
   "name": "python",
   "nbconvert_exporter": "python",
   "pygments_lexer": "ipython3",
   "version": "3.10.10"
  }
 },
 "nbformat": 4,
 "nbformat_minor": 2
}
