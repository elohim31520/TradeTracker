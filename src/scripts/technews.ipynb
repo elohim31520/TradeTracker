{
 "cells": [
  {
   "cell_type": "code",
   "execution_count": 4,
   "metadata": {},
   "outputs": [],
   "source": [
    "import json\n",
    "import time\n",
    "from datetime import datetime\n",
    "import matplotlib.pyplot as plt\n",
    "import matplotlib.dates as mdates\n",
    "from api_util import read_token, BASE_URL, get_headers\n",
    "import requests\n",
    "\n",
    "def _make_get_request(endpoint, params=None, quiet=None):\n",
    "    \"\"\"共用的 HTTP GET 請求處理函數\"\"\"\n",
    "    try:\n",
    "        response = requests.get(f\"{BASE_URL}/{endpoint}\", headers=get_headers(read_token()), params=params)\n",
    "        response.raise_for_status()\n",
    "        result = response.json()\n",
    "        if not quiet: \n",
    "            print(result)\n",
    "        return result\n",
    "    except requests.exceptions.RequestException as err:\n",
    "        print(f\"Request failed: {err}\")\n",
    "        return None\n",
    "    \n",
    "def _make_post_request(endpoint, data, quiet=None):\n",
    "\ttry:\n",
    "\t\tresponse = requests.post(f\"{BASE_URL}/{endpoint}\", headers=get_headers(read_token()), json=data)\n",
    "\t\tresponse.raise_for_status()\n",
    "\t\tresult = response.json()\n",
    "\t\tif not quiet: \n",
    "\t\t\tprint(result)\n",
    "\t\treturn result\n",
    "\texcept requests.exceptions.RequestException as err:\n",
    "\t\tprint(f\"Request failed: {err}\")\n",
    "\t\treturn None\n",
    "    \n",
    "def get_all_technews (page, size, keyword=None):\n",
    "\tres =  _make_get_request('technews',  params={\n",
    "\t\t'page': page,\n",
    "\t\t'size': size,\n",
    "        'keyword': keyword\n",
    "\t})\n",
    "\treturn res.get('data')[::-1]\n",
    "    \n",
    "def create_one_company_news (params):\n",
    "    res = _make_post_request('/company-news', params)\n",
    "    return res\n",
    "    \n",
    "def get_all_company_news (page, size):\n",
    "\tres =  _make_get_request('company-news', {\n",
    "\t\t'page': page,\n",
    "\t\t'size': size\n",
    "\t})\n",
    "\treturn res.get('data')[::-1]\n",
    "    \n",
    "def get_all_company_news_by_keyword (keyword, page=1, size=10):\n",
    "\tres =  _make_get_request('/company-news/search', {\n",
    "\t\t'page': page,\n",
    "\t\t'size': size,\n",
    "\t\t'keyword': keyword\n",
    "\t})\n",
    "\treturn res.get('data')\n",
    "\n",
    "def get_user_favorite_news():\n",
    "    res = _make_get_request('userFavorite/technews')\n",
    "    return res.get('data')\n",
    "    \n",
    "def user_subscribe_news(params):\n",
    "    res = _make_post_request('/userFavorite/technews', params)\n",
    "    return res\n",
    "\n",
    "def print_news(news):\n",
    "\tfor item in news:\n",
    "\t\tid = item.get('id', '--')\n",
    "\t\ttitle = item.get('title', '--')\n",
    "\t\tprint(f\"{id} : {title} \\n\")"
   ]
  },
  {
   "cell_type": "code",
   "execution_count": null,
   "metadata": {},
   "outputs": [],
   "source": [
    "keyword = 'ai'\n",
    "\n",
    "news = get_all_technews(2, 10, keyword=keyword)\n",
    "\n",
    "print_news(news)"
   ]
  },
  {
   "cell_type": "code",
   "execution_count": null,
   "metadata": {},
   "outputs": [],
   "source": [
    "all_news = get_all_technews(page=1, size=15)\n",
    "print_news(all_news)"
   ]
  },
  {
   "cell_type": "code",
   "execution_count": null,
   "metadata": {},
   "outputs": [],
   "source": [
    "all_news = get_all_company_news(page=1, size=5)\n",
    "\n",
    "print_news(all_news)"
   ]
  },
  {
   "cell_type": "code",
   "execution_count": null,
   "metadata": {},
   "outputs": [],
   "source": [
    "keyword = 'ai'\n",
    "search_news = get_all_company_news_by_keyword(page=1, size=5, keyword=keyword)\n",
    "\n",
    "print_news(search_news)"
   ]
  },
  {
   "cell_type": "code",
   "execution_count": null,
   "metadata": {},
   "outputs": [],
   "source": [
    "symbol = 'tsla'"
   ]
  },
  {
   "cell_type": "code",
   "execution_count": null,
   "metadata": {},
   "outputs": [],
   "source": [
    "from bs4 import BeautifulSoup\n",
    "from datetime import datetime, timezone\n",
    "\n",
    "with open('index.html', 'r', encoding='utf-8') as file:\n",
    "\thtml_content = file.read()\n",
    "\n",
    "soup = BeautifulSoup(html_content, 'html.parser')\n",
    "\n",
    "news = []\n",
    "\n",
    "for row in soup.find_all('tr', class_='cursor-pointer has-label'):\n",
    "\ttime_cell = row.find('td', align='right')\n",
    "\ttime_text = time_cell.get_text(strip=True).replace('Today', '')\n",
    "\n",
    "\tif 'Today' in time_text:\n",
    "\t\ttime_text = time_text.replace('Today', '')\n",
    "\t\tnow = datetime.now(timezone.utc)\n",
    "\t\tdate_str = now.date().isoformat()\n",
    "\telse:\n",
    "\t\tnow = datetime.now(timezone.utc)\n",
    "\t\tdate_str = now.date().isoformat()\n",
    "\n",
    "\ttry:\n",
    "\t\ttime_obj = datetime.strptime(time_text, '%I:%M%p')\n",
    "\t\ttime_24hr = time_obj.strftime('%H:%M:%S')\n",
    "\texcept ValueError:\n",
    "\t\t# 如果时间格式无法解析，使用默认时间\n",
    "\t\ttime_24hr = '00:00:00'\n",
    "\t\t\n",
    "\t# 创建 MySQL 支持的时间字符串\n",
    "\trelease_time = f\"{date_str} {time_24hr}\"\n",
    "\n",
    "\tlink = row.find('a', class_='tab-link-news')\n",
    "\ttitle = link.get_text(strip=True)\n",
    "\tweb_url = link['href']\n",
    "\n",
    "\tpublisher = row.find('span').get_text(strip=True).strip('()')\n",
    "\n",
    "\tnews_item = {\n",
    "        \"title\": title,\n",
    "        \"symbol\": symbol.upper(),\n",
    "        \"release_time\": release_time,\n",
    "        \"publisher\": publisher,\n",
    "        \"web_url\": web_url\n",
    "    }\n",
    "\n",
    "\tnews.append(news_item)\n",
    "\n",
    "print(json.dumps(news[0:2], indent=4))\n"
   ]
  },
  {
   "cell_type": "code",
   "execution_count": null,
   "metadata": {},
   "outputs": [],
   "source": [
    "from time import sleep\n",
    "\n",
    "SLEEP_SECOND = 1/ 10\n",
    "for item in news:\n",
    "\tres = create_one_company_news(item)\n",
    "\tprint(res)\n",
    "\tsleep(SLEEP_SECOND)"
   ]
  },
  {
   "cell_type": "code",
   "execution_count": null,
   "metadata": {},
   "outputs": [],
   "source": [
    "newsId = 123262\n",
    "data = user_subscribe_news({'newsId': newsId})\n",
    "data"
   ]
  },
  {
   "cell_type": "code",
   "execution_count": null,
   "metadata": {},
   "outputs": [],
   "source": [
    "data = get_user_favorite_news()\n",
    "data"
   ]
  }
 ],
 "metadata": {
  "kernelspec": {
   "display_name": "Python 3",
   "language": "python",
   "name": "python3"
  },
  "language_info": {
   "codemirror_mode": {
    "name": "ipython",
    "version": 3
   },
   "file_extension": ".py",
   "mimetype": "text/x-python",
   "name": "python",
   "nbconvert_exporter": "python",
   "pygments_lexer": "ipython3",
   "version": "3.10.10"
  }
 },
 "nbformat": 4,
 "nbformat_minor": 2
}
