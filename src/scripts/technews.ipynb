{
 "cells": [
  {
   "cell_type": "code",
   "execution_count": null,
   "metadata": {},
   "outputs": [],
   "source": [
    "import json\n",
    "import time\n",
    "from datetime import datetime\n",
    "import matplotlib.pyplot as plt\n",
    "import matplotlib.dates as mdates\n",
    "from api_util import read_token, BASE_URL, get_headers\n",
    "import requests\n",
    "\n",
    "\n",
    "token = read_token()\n",
    "\n",
    "def _make_get_request(endpoint, params=None, quiet=None):\n",
    "    \"\"\"共用的 HTTP GET 請求處理函數\"\"\"\n",
    "    try:\n",
    "        response = requests.get(f\"{BASE_URL}/{endpoint}\", headers=get_headers(token), params=params)\n",
    "        response.raise_for_status()\n",
    "        result = response.json()\n",
    "        if not quiet: \n",
    "            print(result)\n",
    "        return result\n",
    "    except requests.exceptions.RequestException as err:\n",
    "        print(f\"Request failed: {err}\")\n",
    "        return None\n",
    "    \n",
    "def _make_post_request(endpoint, data, quiet=None):\n",
    "\ttry:\n",
    "\t\tresponse = requests.post(f\"{BASE_URL}/{endpoint}\", headers=get_headers(token), json=data)\n",
    "\t\tresponse.raise_for_status()\n",
    "\t\tresult = response.json()\n",
    "\t\tif not quiet: \n",
    "\t\t\tprint(result)\n",
    "\t\treturn result\n",
    "\texcept requests.exceptions.RequestException as err:\n",
    "\t\tprint(f\"Request failed: {err}\")\n",
    "\t\treturn None\n",
    "    \n",
    "def get_all_technews (page, size, keyword):\n",
    "\tres =  _make_get_request('technews',  params={\n",
    "\t\t'page': page,\n",
    "\t\t'size': size,\n",
    "        'keyword': keyword\n",
    "\t})\n",
    "\treturn res.get('data')[::-1]\n",
    "    \n",
    "def create_one_company_news (params):\n",
    "    res = _make_post_request('/company-news', params)\n",
    "    return res\n",
    "    \n",
    "def get_all_company_news (page, size):\n",
    "\tres =  _make_get_request('company-news', {\n",
    "\t\t'page': page,\n",
    "\t\t'size': size\n",
    "\t})\n",
    "\treturn res.get('data')[::-1]\n",
    "    \n",
    "def get_all_company_news_by_keyword (keyword, page=1, size=10):\n",
    "\tres =  _make_get_request('/company-news/search', {\n",
    "\t\t'page': page,\n",
    "\t\t'size': size,\n",
    "\t\t'keyword': keyword\n",
    "\t})\n",
    "\treturn res.get('data')\n",
    "\n",
    "def get_user_favorite_news():\n",
    "    res = _make_get_request('userFavorite/technews')\n",
    "    return res.get('data')\n",
    "    \n",
    "def user_subscribe_news(params):\n",
    "    res = _make_post_request('/userFavorite/technews', params)\n",
    "    return res\n",
    "\n",
    "def print_news(news):\n",
    "    for item in news:\n",
    "        company_name = item.get('companyName', '')\n",
    "        news_id = item.get('id', '--')\n",
    "        title = item.get('title', '--')\n",
    "        release_time = item.get('release_time', '--')\n",
    "        web_url = item.get('web_url', '--')\n",
    "        print(company_name)\n",
    "        print(f\"{news_id} : {title} {release_time} \\n\")\n",
    "        if web_url:\n",
    "            print(web_url)\n",
    "        print('----------')"
   ]
  },
  {
   "cell_type": "code",
   "execution_count": 9,
   "metadata": {},
   "outputs": [
    {
     "name": "stdout",
     "output_type": "stream",
     "text": [
      "{'code': 200, 'message': '成功', 'data': [{'id': 124143, 'title': '與競爭對手差距恐擴大，郭明錤籲蘋果加大 AI 投資', 'release_time': '2025-06-10T14:15:00.000Z', 'publisher': 'MoneyDJ', 'web_url': 'https://technews.tw/2025/06/10/wwdc-2025-ai-apple/', 'createdAt': '2025-06-10T06:28:40.000Z', 'updatedAt': '2025-06-10T06:28:40.000Z'}, {'id': 124134, 'title': '美國大學搶先布局，AI 相關課程成新教學主流', 'release_time': '2025-06-10T11:45:00.000Z', 'publisher': 'TechNews 編輯台', 'web_url': 'https://technews.tw/2025/06/10/university-going-to-add-some-ai-course-in-the-system/', 'createdAt': '2025-06-10T06:28:40.000Z', 'updatedAt': '2025-06-10T06:28:40.000Z'}, {'id': 124126, 'title': 'ChatGPT 推動迅速成長，OpenAI 年度經常性收入破 100 億美元大關', 'release_time': '2025-06-10T10:49:00.000Z', 'publisher': '陳 冠榮', 'web_url': 'https://finance.technews.tw/2025/06/10/openai-hits-10-billion-in-annual-recurring-revenue/', 'createdAt': '2025-06-10T06:28:30.000Z', 'updatedAt': '2025-06-10T06:28:30.000Z'}, {'id': 124125, 'title': '黃仁勳：AI 推動人類語言取代程式語言，人人都能成為工程師', 'release_time': '2025-06-10T10:45:00.000Z', 'publisher': 'TechNews 編輯台', 'web_url': 'https://technews.tw/2025/06/10/nvidia-ceo-says-programming-ai-is-similar-tp-how-to-program-a-person/', 'createdAt': '2025-06-10T06:28:30.000Z', 'updatedAt': '2025-06-10T06:28:30.000Z'}, {'id': 124118, 'title': '英國攜輝達推出監理沙盒，助金融業安全測試 AI 工具', 'release_time': '2025-06-10T09:45:00.000Z', 'publisher': '中央社', 'web_url': 'https://finance.technews.tw/2025/06/10/fca-allows-firms-to-experiment-with-ai-alongside-nvidia/', 'createdAt': '2025-06-10T06:28:30.000Z', 'updatedAt': '2025-06-10T06:28:30.000Z'}, {'id': 124106, 'title': '從 AI 算力到電網崩潰？馬斯克警告：AI 爆發背後的電力危機，你準備好了嗎？', 'release_time': '2025-06-10T08:10:00.000Z', 'publisher': 'YuShan C.', 'web_url': 'https://technews.tw/2025/06/10/power-grid-collapse/', 'createdAt': '2025-06-10T06:28:20.000Z', 'updatedAt': '2025-06-10T06:28:20.000Z'}, {'id': 124110, 'title': 'AI 變成國民基本配備？阿聯真的做到了', 'release_time': '2025-06-10T08:40:00.000Z', 'publisher': 'JA', 'web_url': 'https://technews.tw/2025/06/10/stargate-uae/', 'createdAt': '2025-06-10T06:28:20.000Z', 'updatedAt': '2025-06-10T06:28:20.000Z'}, {'id': 124094, 'title': '蘋果開發者大會倒數，傳開放 AI 基礎模型', 'release_time': '2025-06-09T16:25:00.000Z', 'publisher': '中央社', 'web_url': 'https://technews.tw/2025/06/09/apple-may-open-up-third-party-ai-basic-models/', 'createdAt': '2025-06-10T06:28:10.000Z', 'updatedAt': '2025-06-10T06:28:10.000Z'}, {'id': 124093, 'title': 'Meta 擬投資新創公司 Scale AI，交易價值逾百億美元', 'release_time': '2025-06-09T16:14:00.000Z', 'publisher': '陳 冠榮', 'web_url': 'https://technews.tw/2025/06/09/meta-in-talks-over-scale-ai-investment/', 'createdAt': '2025-06-10T06:28:10.000Z', 'updatedAt': '2025-06-10T06:28:10.000Z'}, {'id': 124098, 'title': '高通斥 24 億美元收購 Alphawave Semi，加速 AI 資料中心布局', 'release_time': '2025-06-09T17:06:00.000Z', 'publisher': '林 妤柔', 'web_url': 'https://technews.tw/2025/06/09/qualcomm-to-acquire-alphawave-semi/', 'createdAt': '2025-06-10T06:28:10.000Z', 'updatedAt': '2025-06-10T06:28:10.000Z'}]}\n",
      "124098 : 高通斥 24 億美元收購 Alphawave Semi，加速 AI 資料中心布局 \n",
      "\n",
      "124093 : Meta 擬投資新創公司 Scale AI，交易價值逾百億美元 \n",
      "\n",
      "124094 : 蘋果開發者大會倒數，傳開放 AI 基礎模型 \n",
      "\n",
      "124110 : AI 變成國民基本配備？阿聯真的做到了 \n",
      "\n",
      "124106 : 從 AI 算力到電網崩潰？馬斯克警告：AI 爆發背後的電力危機，你準備好了嗎？ \n",
      "\n",
      "124118 : 英國攜輝達推出監理沙盒，助金融業安全測試 AI 工具 \n",
      "\n",
      "124125 : 黃仁勳：AI 推動人類語言取代程式語言，人人都能成為工程師 \n",
      "\n",
      "124126 : ChatGPT 推動迅速成長，OpenAI 年度經常性收入破 100 億美元大關 \n",
      "\n",
      "124134 : 美國大學搶先布局，AI 相關課程成新教學主流 \n",
      "\n",
      "124143 : 與競爭對手差距恐擴大，郭明錤籲蘋果加大 AI 投資 \n",
      "\n"
     ]
    }
   ],
   "source": [
    "keyword = 'ai'\n",
    "\n",
    "news = get_all_technews(1, 10, keyword=keyword)\n",
    "\n",
    "for item in news:\n",
    "\tid = item.get('id', '--')\n",
    "\ttitle = item.get('title', '--')\n",
    "\tprint(f\"{id} : {title} \\n\")"
   ]
  },
  {
   "cell_type": "code",
   "execution_count": null,
   "metadata": {},
   "outputs": [],
   "source": [
    "all_news = get_all_technews(page=1, size=100)\n",
    "for item in all_news:\n",
    "\tid = item.get('id', '--')\n",
    "\ttitle = item.get('title', '--')\n",
    "\tprint(f\"{id} : {title} \\n\")"
   ]
  },
  {
   "cell_type": "code",
   "execution_count": null,
   "metadata": {},
   "outputs": [],
   "source": [
    "all_news = get_all_company_news(page=1, size=100)\n",
    "\n",
    "print_news(all_news)"
   ]
  },
  {
   "cell_type": "code",
   "execution_count": null,
   "metadata": {},
   "outputs": [],
   "source": [
    "keyword = 'ai'\n",
    "search_news = get_all_company_news_by_keyword(page=1, size=100, keyword=keyword)\n",
    "\n",
    "print_news(search_news)"
   ]
  },
  {
   "cell_type": "code",
   "execution_count": null,
   "metadata": {},
   "outputs": [],
   "source": [
    "symbol = 'tsla'"
   ]
  },
  {
   "cell_type": "code",
   "execution_count": null,
   "metadata": {},
   "outputs": [],
   "source": [
    "from bs4 import BeautifulSoup\n",
    "from datetime import datetime, timezone\n",
    "\n",
    "with open('index.html', 'r', encoding='utf-8') as file:\n",
    "\thtml_content = file.read()\n",
    "\n",
    "soup = BeautifulSoup(html_content, 'html.parser')\n",
    "\n",
    "news = []\n",
    "\n",
    "for row in soup.find_all('tr', class_='cursor-pointer has-label'):\n",
    "\ttime_cell = row.find('td', align='right')\n",
    "\ttime_text = time_cell.get_text(strip=True).replace('Today', '')\n",
    "\n",
    "\tif 'Today' in time_text:\n",
    "\t\ttime_text = time_text.replace('Today', '')\n",
    "\t\tnow = datetime.now(timezone.utc)\n",
    "\t\tdate_str = now.date().isoformat()\n",
    "\telse:\n",
    "\t\tnow = datetime.now(timezone.utc)\n",
    "\t\tdate_str = now.date().isoformat()\n",
    "\n",
    "\ttry:\n",
    "\t\ttime_obj = datetime.strptime(time_text, '%I:%M%p')\n",
    "\t\ttime_24hr = time_obj.strftime('%H:%M:%S')\n",
    "\texcept ValueError:\n",
    "\t\t# 如果时间格式无法解析，使用默认时间\n",
    "\t\ttime_24hr = '00:00:00'\n",
    "\t\t\n",
    "\t# 创建 MySQL 支持的时间字符串\n",
    "\trelease_time = f\"{date_str} {time_24hr}\"\n",
    "\n",
    "\tlink = row.find('a', class_='tab-link-news')\n",
    "\ttitle = link.get_text(strip=True)\n",
    "\tweb_url = link['href']\n",
    "\n",
    "\tpublisher = row.find('span').get_text(strip=True).strip('()')\n",
    "\n",
    "\tnews_item = {\n",
    "        \"title\": title,\n",
    "        \"symbol\": symbol.upper(),\n",
    "        \"release_time\": release_time,\n",
    "        \"publisher\": publisher,\n",
    "        \"web_url\": web_url\n",
    "    }\n",
    "\n",
    "\tnews.append(news_item)\n",
    "\n",
    "print(json.dumps(news[0:2], indent=4))\n"
   ]
  },
  {
   "cell_type": "code",
   "execution_count": null,
   "metadata": {},
   "outputs": [],
   "source": [
    "from time import sleep\n",
    "\n",
    "SLEEP_SECOND = 1/ 10\n",
    "for item in news:\n",
    "\tres = create_one_company_news(item)\n",
    "\tprint(res)\n",
    "\tsleep(SLEEP_SECOND)"
   ]
  },
  {
   "cell_type": "code",
   "execution_count": null,
   "metadata": {},
   "outputs": [],
   "source": [
    "newsId = 123262\n",
    "data = user_subscribe_news({'newsId': newsId})\n",
    "data"
   ]
  },
  {
   "cell_type": "code",
   "execution_count": null,
   "metadata": {},
   "outputs": [],
   "source": [
    "data = get_user_favorite_news()\n",
    "data"
   ]
  }
 ],
 "metadata": {
  "kernelspec": {
   "display_name": "Python 3",
   "language": "python",
   "name": "python3"
  },
  "language_info": {
   "codemirror_mode": {
    "name": "ipython",
    "version": 3
   },
   "file_extension": ".py",
   "mimetype": "text/x-python",
   "name": "python",
   "nbconvert_exporter": "python",
   "pygments_lexer": "ipython3",
   "version": "3.10.10"
  }
 },
 "nbformat": 4,
 "nbformat_minor": 2
}
