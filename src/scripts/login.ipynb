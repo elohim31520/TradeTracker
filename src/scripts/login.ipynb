{
 "cells": [
  {
   "cell_type": "code",
   "execution_count": 13,
   "metadata": {},
   "outputs": [],
   "source": [
    "import os\n",
    "import requests\n",
    "from api_util import read_token, BASE_URL, get_headers\n",
    "\n",
    "BASE_URL = 'http://localhost:1234'\n",
    "\n",
    "token = read_token()\n",
    "\n",
    "def _make_get_request(endpoint, params=None, quiet=None):\n",
    "    \"\"\"共用的 HTTP GET 請求處理函數\"\"\"\n",
    "    try:\n",
    "        response = requests.get(f\"{BASE_URL}/{endpoint}\", headers=get_headers(token), params=params)\n",
    "        response.raise_for_status()\n",
    "        result = response.json()\n",
    "        if not quiet: \n",
    "            print(result)\n",
    "        return result\n",
    "    except requests.exceptions.RequestException as err:\n",
    "        print(f\"Request failed: {err}\")\n",
    "        return None\n",
    "    \n",
    "def _make_post_request(endpoint, data, quiet=None):\n",
    "\ttry:\n",
    "\t\tresponse = requests.post(f\"{BASE_URL}/{endpoint}\", headers=get_headers(token), json=data)\n",
    "\t\tresponse.raise_for_status()\n",
    "\t\tresult = response.json()\n",
    "\t\tif not quiet: \n",
    "\t\t\tprint(result)\n",
    "\t\treturn result\n",
    "\texcept requests.exceptions.RequestException as err:\n",
    "\t\tprint(f\"Request failed: {err}\")\n",
    "\t\treturn None\n",
    "\n",
    "def write_token(token):\n",
    "    if not os.path.exists('token.txt'):\n",
    "        with open('token.txt', 'w') as f:\n",
    "            f.write(token)\n",
    "    else:\n",
    "        with open('token.txt', 'w') as f:\n",
    "            f.write(token)\n",
    "\n",
    "def login(user_name, pwd):\n",
    "\tresponse = requests.post(\n",
    "\t\tf'{BASE_URL}/users/login',\n",
    "\t\tjson={\n",
    "\t\t\t'user_name': user_name,\n",
    "\t\t\t'pwd': pwd,\n",
    "\t\t}\n",
    "\t)\n",
    "\tres = response.json()\n",
    "\ttoken = res.get('data', {})\n",
    "\tif token:\n",
    "\t\twrite_token(token)\n",
    "\treturn res\n",
    "\n",
    "def register(user_name, pwd, email):\n",
    "\tres = _make_post_request('/users/register', {\n",
    "\t\t\t'user_name': user_name,\n",
    "\t\t\t'pwd': pwd,\n",
    "\t\t\t'email': email,\n",
    "\t})\n",
    "\ttoken = res.get('data', {})\n",
    "\tif token:\n",
    "\t\twrite_token(token)\n",
    "\treturn res"
   ]
  },
  {
   "cell_type": "code",
   "execution_count": null,
   "metadata": {},
   "outputs": [],
   "source": [
    "login(user_name='', pwd='a123456+')"
   ]
  },
  {
   "cell_type": "code",
   "execution_count": null,
   "metadata": {},
   "outputs": [],
   "source": [
    "register(user_name='kkbox123555', pwd='a123456+', email='kkbox123555@gmail.com')"
   ]
  }
 ],
 "metadata": {
  "kernelspec": {
   "display_name": "Python 3",
   "language": "python",
   "name": "python3"
  },
  "language_info": {
   "codemirror_mode": {
    "name": "ipython",
    "version": 3
   },
   "file_extension": ".py",
   "mimetype": "text/x-python",
   "name": "python",
   "nbconvert_exporter": "python",
   "pygments_lexer": "ipython3",
   "version": "3.10.10"
  }
 },
 "nbformat": 4,
 "nbformat_minor": 2
}
