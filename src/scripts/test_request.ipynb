{
 "cells": [
  {
   "cell_type": "markdown",
   "metadata": {},
   "source": [
    "### 登入"
   ]
  },
  {
   "cell_type": "code",
   "execution_count": null,
   "metadata": {},
   "outputs": [],
   "source": [
    "import os\n",
    "import requests\n",
    "\n",
    "BASE_URL = 'http://localhost:1234'\n",
    "\n",
    "def write_token(token):\n",
    "    if not os.path.exists('token.txt'):\n",
    "        with open('token.txt', 'w') as f:\n",
    "            f.write(token)\n",
    "    else:\n",
    "        with open('token.txt', 'w') as f:\n",
    "            f.write(token)\n",
    "\n",
    "def login(user_name, pwd):\n",
    "    try:\n",
    "        response = requests.post(\n",
    "            f'{BASE_URL}/users/login',\n",
    "            json={\n",
    "                'user_name': user_name,\n",
    "                'pwd': pwd,\n",
    "            }\n",
    "        )\n",
    "        response.raise_for_status()\n",
    "        token = response.json().get('token', '')\n",
    "        if token:\n",
    "            write_token(token)\n",
    "    except requests.exceptions.RequestException as err:\n",
    "        print(err)\n",
    "login(user_name='versus7063', pwd='a123456+')"
   ]
  },
  {
   "cell_type": "markdown",
   "metadata": {},
   "source": [
    "## Def"
   ]
  },
  {
   "cell_type": "code",
   "execution_count": null,
   "metadata": {},
   "outputs": [],
   "source": [
    "import json\n",
    "import time\n",
    "from datetime import datetime\n",
    "import matplotlib.pyplot as plt\n",
    "import matplotlib.dates as mdates\n",
    "\n",
    "BASE_URL = 'http://localhost:1234'\n",
    "\n",
    "def read_token(file_path='./token.txt'):\n",
    "    try:\n",
    "        with open(file_path, 'r') as file:\n",
    "            return file.read().strip()\n",
    "    except IOError as err:\n",
    "        print(f'Error reading token from file: {err}')\n",
    "        return None\n",
    "    \n",
    "\n",
    "def get_headers(token):\n",
    "    return {\n",
    "        'Authorization': f'Bearer {token}',\n",
    "        'Content-Type': 'application/json'\n",
    "    }\n",
    "\n",
    "token = read_token()\n",
    "\n",
    "def _make_get_request(endpoint, params=None):\n",
    "    \"\"\"共用的 HTTP GET 請求處理函數\"\"\"\n",
    "    try:\n",
    "        response = requests.get(f\"{BASE_URL}/{endpoint}\", headers=get_headers(token), params=params)\n",
    "        response.raise_for_status()\n",
    "        return response.json()\n",
    "    except requests.exceptions.RequestException as err:\n",
    "        print(f\"Request failed: {err}\")\n",
    "        return None\n",
    "\n",
    "def register(user_name, pwd, email):\n",
    "    try:\n",
    "        response = requests.post(\n",
    "            f'{BASE_URL}/users/register',\n",
    "            json={\n",
    "                'user_name': user_name,\n",
    "                'pwd': pwd,\n",
    "                'email': email,\n",
    "            }\n",
    "        )\n",
    "        response.raise_for_status()\n",
    "        token = response.json().get('token', '')\n",
    "        if token:\n",
    "            write_token(token)\n",
    "    except requests.exceptions.RequestException as err:\n",
    "        print(err)\n",
    "            \n",
    "def get_all_momentum():\n",
    "    return _make_get_request('marketIndex/momentum')\n",
    "\n",
    "def get_momentum_by_range(days):\n",
    "    return _make_get_request(f'marketIndex/momentum/range/{days}')\n",
    "    \n",
    "def get_market_weights():\n",
    "    return _make_get_request('marketIndex/weights')\n",
    "\n",
    "def parse_date(date_str):\n",
    "    date_format = '%Y-%m-%d'\n",
    "    try:\n",
    "        date = datetime.strptime(date_str, date_format)\n",
    "        return date.strftime(date_format)\n",
    "    except ValueError:\n",
    "        return None\n",
    "\n",
    "def record_my_transactions(transactions):\n",
    "    try:\n",
    "        for stock_id, transaction_type, quantity, price, transaction_date in transactions:\n",
    "            data = {\n",
    "                'stock_id': stock_id,\n",
    "                'transaction_type': transaction_type,\n",
    "                'quantity': quantity,\n",
    "                'price': price,\n",
    "                'transaction_date': parse_date(transaction_date) or datetime.now().strftime('%Y-%m-%d')\n",
    "            }\n",
    "            response = requests.post(f'{BASE_URL}/transactions', headers=get_headers(token), json=data)\n",
    "            if response.status_code in range(200, 300):\n",
    "                print(f'Successfully inserted: {data}')\n",
    "            else:\n",
    "                print(f'Failed to insert: {data}, Status code: {response.status_code}, Response: {response.text}')\n",
    "            time.sleep(2)\n",
    "    except requests.exceptions.RequestException as err:\n",
    "        print(err)\n",
    "\n",
    "def get_my_portfolio():\n",
    "    return _make_get_request('portfolio')\n",
    "\n",
    "def update_my_portfolio(params):\n",
    "    try:\n",
    "        response = requests.put(f'{BASE_URL}/portfolio', headers=get_headers(token), json=params)\n",
    "        response.raise_for_status()\n",
    "        return response.json()\n",
    "    except requests.exceptions.RequestException as err:\n",
    "        print(err)\n",
    "\n",
    "def get_technews_by_keyword(keyword):\n",
    "    data =  _make_get_request(f\"technews/search?keyword={keyword}\")\n",
    "    return data[::-1]\n",
    "    \n",
    "def getAllTechnews (page, size):\n",
    "\tif not isinstance(page, int) or not isinstance(size, int) or page <= 0 or size <= 0:\n",
    "\t\tprint('Valid page & size required')\n",
    "\t\treturn []\n",
    "\n",
    "\tparams = {\n",
    "\t\t'page': page,\n",
    "\t\t'size': size\n",
    "\t}\n",
    "\tdata =  _make_get_request('technews', params)\n",
    "\treturn data[::-1]\n",
    "    \n",
    "def create_one_company_news (params):\n",
    "\ttry:\n",
    "\t\tresponse = requests.post(f\"{BASE_URL}/company-news\", headers=get_headers(token), json=params)\n",
    "\t\tresponse.raise_for_status()\n",
    "\t\treturn response.json()\n",
    "\texcept requests.exceptions.RequestException as err:\n",
    "\t\tprint(err)\n",
    "    \n",
    "def get_all_company_news (page, size):\n",
    "\tif not isinstance(page, int) or not isinstance(size, int) or page <= 0 or size <=0:\n",
    "\t\tprint('Valid page & size required')\n",
    "\t\treturn []\n",
    "\n",
    "\tparams = {\n",
    "\t\t'page': page,\n",
    "\t\t'size': size\n",
    "\t}\n",
    "\tdata =  _make_get_request('company-news', params)\n",
    "\treturn data[::-1]\n",
    "    \n",
    "def get_all_company_news_by_keyword (keyword, page=1, size=10):\n",
    "\tif not isinstance(page, int) or not isinstance(size, int) or page <= 0 or size <=0:\n",
    "\t\tprint('Valid page & size required')\n",
    "\t\treturn\n",
    "\treturn _make_get_request('/company-news/query', {\n",
    "\t\t'page': page,\n",
    "\t\t'size': size,\n",
    "        'keyword': keyword\n",
    "\t})\n",
    "\n",
    "def get_statement_by_symbol(symbol):\n",
    "    return _make_get_request(f\"statements/{symbol}\")\n",
    "    \n",
    "def get_user_subscribe_news():\n",
    "    return _make_get_request('subscribe/technews')\n",
    "    \n",
    "def user_subscribe_news(params):\n",
    "    try:\n",
    "        url = f\"{BASE_URL}/subscribe/technews\"\n",
    "        response = requests.post(url, headers=get_headers(token), json=params)\n",
    "        response.raise_for_status()\n",
    "        data = response.json()\n",
    "        return data\n",
    "    except requests.exceptions.RequestException as err:\n",
    "        print(err)\n",
    "    \n",
    "def print_news(news):\n",
    "    for item in news:\n",
    "        company_name = item.get('companyName', '')\n",
    "        news_id = item.get('id', '--')\n",
    "        title = item.get('title', '--')\n",
    "        release_time = item.get('release_time', '--')\n",
    "        web_url = item.get('web_url', '--')\n",
    "        print(company_name)\n",
    "        print(f\"{news_id} : {title} {release_time} \\n\")\n",
    "        if web_url:\n",
    "            print(web_url)\n",
    "        print('----------')\n",
    "        \n",
    "\n",
    "def draw_pie_chart(obj):\n",
    "\tlabels = obj.keys()\n",
    "\tsizes = obj.values()\n",
    "\tcolors = plt.get_cmap('Set2').colors\n",
    "\texplode = [0.1] * len(labels)\n",
    "\n",
    "\tplt.figure(figsize=(5, 5))\n",
    "\tplt.pie(sizes, explode=explode, labels=labels, autopct='%1.1f%%', colors=colors, startangle=140)\n",
    "\tplt.title('Portfolio Distribution by Stock')\n",
    "\tplt.show()\n",
    "\n",
    "\n",
    "def draw_line_chart(x_data, y_data, label, title, xlabel, ylabel, interval=10, figsize=(10, 6), color='#efb441'):\n",
    "    plt.figure(figsize=figsize)\n",
    "    plt.plot(x_data, y_data, marker='', linestyle='-', color=color, label=label)\n",
    "\n",
    "    plt.title(title)\n",
    "    plt.xlabel(xlabel)\n",
    "    plt.ylabel(ylabel)\n",
    "\n",
    "    plt.gca().xaxis.set_major_formatter(mdates.DateFormatter('%Y-%m-%d'))\n",
    "    plt.gca().xaxis.set_major_locator(mdates.DayLocator(interval=interval))\n",
    "    plt.gcf().autofmt_xdate()\n",
    "    plt.grid(True)\n",
    "\n",
    "    plt.legend()\n",
    "\n",
    "    plt.tight_layout()\n",
    "    plt.show()\n",
    "    \n",
    "def plot_pe_forward_vs_time(data):\n",
    "    timestamps = []\n",
    "    pe_forward_values = []\n",
    "    \n",
    "    for entry in data:\n",
    "        created_at = entry.get('createdAt', '')\n",
    "        pe_forward = entry.get('PE_Forward', None)\n",
    "        \n",
    "        if created_at and pe_forward is not None:\n",
    "            timestamp = datetime.strptime(created_at, \"%Y-%m-%dT%H:%M:%S.%fZ\")\n",
    "            timestamps.append(timestamp)\n",
    "            \n",
    "            pe_forward_values.append(float(pe_forward))\n",
    "    \n",
    "    draw_line_chart(timestamps, pe_forward_values, label='PE Forward', title='PE Forward vs Time', xlabel='Date', ylabel='PE Forward')\n"
   ]
  },
  {
   "cell_type": "markdown",
   "metadata": {},
   "source": [
    "#### 註冊"
   ]
  },
  {
   "cell_type": "code",
   "execution_count": null,
   "metadata": {},
   "outputs": [],
   "source": [
    "register(user_name='', pwd='', email='')"
   ]
  },
  {
   "cell_type": "code",
   "execution_count": null,
   "metadata": {},
   "outputs": [],
   "source": [
    "res = get_market_weights()\n",
    "res"
   ]
  },
  {
   "cell_type": "markdown",
   "metadata": {},
   "source": [
    "### 取得動能指標"
   ]
  },
  {
   "cell_type": "code",
   "execution_count": null,
   "metadata": {},
   "outputs": [],
   "source": [
    "# my_data = get_all_momentum()\n",
    "\n",
    "my_data = get_momentum_by_range(7)\n",
    "print(my_data)"
   ]
  },
  {
   "cell_type": "markdown",
   "metadata": {},
   "source": [
    "#### 畫出動能"
   ]
  },
  {
   "cell_type": "code",
   "execution_count": null,
   "metadata": {},
   "outputs": [],
   "source": [
    "\n",
    "import pandas as pd\n",
    "\n",
    "df = pd.DataFrame(my_data)\n",
    "\n",
    "df['createdAt'] = pd.to_datetime(df['createdAt'])\n",
    "draw_line_chart(df['createdAt'], df['volume'], label='Momentum', title='Time Series Momentum', xlabel='Time', ylabel='Volume', interval=1)"
   ]
  },
  {
   "cell_type": "markdown",
   "metadata": {},
   "source": [
    "### 記錄交易"
   ]
  },
  {
   "cell_type": "code",
   "execution_count": null,
   "metadata": {},
   "outputs": [],
   "source": [
    "transactions = [\n",
    "    # ('AMZN', 'buy', 1, 180.53, '2025-04-15'),\n",
    "\t# ('AMZN', 'buy', 1, 181.08, '2025-04-15'),\n",
    "\t# ('NET', 'buy', 2, 108.28, '2025-04-15'),\n",
    "\t# ('GOOG', 'buy', 1, 159.74, '2025-04-15'),\n",
    "\t# ('GOOG', 'buy', 1, 159.91, '2025-04-15'),\n",
    "]"
   ]
  },
  {
   "cell_type": "code",
   "execution_count": null,
   "metadata": {},
   "outputs": [],
   "source": [
    "record_my_transactions(transactions)"
   ]
  },
  {
   "cell_type": "markdown",
   "metadata": {},
   "source": [
    "### MY Portfolio"
   ]
  },
  {
   "cell_type": "code",
   "execution_count": null,
   "metadata": {},
   "outputs": [],
   "source": [
    "my_portfolio = get_my_portfolio()\n",
    "\n",
    "PORTFOLIO_USD = 14309\n",
    "\n",
    "portfolio_values = {}\n",
    "for item in my_portfolio:\n",
    "    stock_id = item['stock_id']\n",
    "    quantity = item['quantity']\n",
    "    average_price = float(item['average_price'])  # 转换为浮点数\n",
    "    total_value = quantity * average_price\n",
    "    if stock_id in portfolio_values:\n",
    "        portfolio_values[stock_id] += total_value\n",
    "    else:\n",
    "        portfolio_values[stock_id] = total_value\n",
    "    \n",
    "    print(f'{stock_id}: {quantity} * {average_price} = {total_value}'  + '\\n')\n",
    "\n",
    "# 计算投资组合中剩余的 USD 价值\n",
    "portfolio_values['USD'] = PORTFOLIO_USD\n",
    "\n",
    "portfolio_values = {k: v for k, v in portfolio_values.items() if v > 0}\n",
    "\n",
    "sorted_portfolio_values = dict(sorted(portfolio_values.items(), key=lambda item: item[1], reverse=True))\n",
    "\n",
    "draw_pie_chart(sorted_portfolio_values)"
   ]
  },
  {
   "cell_type": "code",
   "execution_count": null,
   "metadata": {},
   "outputs": [],
   "source": [
    "\n",
    "data = {\n",
    "\t'stock_id': 'MU',\n",
    "\t'average_price': 127.33\n",
    "}\n",
    "update_my_portfolio(data)"
   ]
  },
  {
   "cell_type": "markdown",
   "metadata": {},
   "source": [
    "### search news by keyword"
   ]
  },
  {
   "cell_type": "code",
   "execution_count": null,
   "metadata": {},
   "outputs": [],
   "source": [
    "keyword = 'ai'\n",
    "\n",
    "news = get_technews_by_keyword(keyword)\n",
    "\n",
    "print_news(news)"
   ]
  },
  {
   "cell_type": "code",
   "execution_count": null,
   "metadata": {},
   "outputs": [],
   "source": [
    "all_news = getAllTechnews(page=1, size=5000)\n",
    "print_news(all_news)"
   ]
  },
  {
   "cell_type": "markdown",
   "metadata": {},
   "source": [
    "#### 搜索Company news"
   ]
  },
  {
   "cell_type": "code",
   "execution_count": null,
   "metadata": {},
   "outputs": [],
   "source": [
    "all_news = get_all_company_news(page=1, size=100)\n",
    "\n",
    "print_news(all_news)"
   ]
  },
  {
   "cell_type": "code",
   "execution_count": null,
   "metadata": {},
   "outputs": [],
   "source": [
    "keyword = 'ai'\n",
    "search_news = get_all_company_news_by_keyword(page=1, size=100, keyword=keyword)\n",
    "\n",
    "print_news(search_news)"
   ]
  },
  {
   "cell_type": "markdown",
   "metadata": {},
   "source": [
    "#### 讀取Html 轉成json資料"
   ]
  },
  {
   "cell_type": "code",
   "execution_count": null,
   "metadata": {},
   "outputs": [],
   "source": [
    "symbol = 'NVDA'"
   ]
  },
  {
   "cell_type": "code",
   "execution_count": null,
   "metadata": {},
   "outputs": [],
   "source": [
    "from bs4 import BeautifulSoup\n",
    "from datetime import datetime, timezone\n",
    "\n",
    "with open('index.html', 'r', encoding='utf-8') as file:\n",
    "\thtml_content = file.read()\n",
    "\n",
    "soup = BeautifulSoup(html_content, 'html.parser')\n",
    "\n",
    "news = []\n",
    "\n",
    "for row in soup.find_all('tr', class_='cursor-pointer has-label'):\n",
    "\ttime_cell = row.find('td', align='right')\n",
    "\ttime_text = time_cell.get_text(strip=True).replace('Today', '')\n",
    "\n",
    "\tif 'Today' in time_text:\n",
    "\t\ttime_text = time_text.replace('Today', '')\n",
    "\t\tnow = datetime.now(timezone.utc)\n",
    "\t\tdate_str = now.date().isoformat()\n",
    "\telse:\n",
    "\t\tnow = datetime.now(timezone.utc)\n",
    "\t\tdate_str = now.date().isoformat()\n",
    "\n",
    "\ttry:\n",
    "\t\ttime_obj = datetime.strptime(time_text, '%I:%M%p')\n",
    "\t\ttime_24hr = time_obj.strftime('%H:%M:%S')\n",
    "\texcept ValueError:\n",
    "\t\t# 如果时间格式无法解析，使用默认时间\n",
    "\t\ttime_24hr = '00:00:00'\n",
    "\t\t\n",
    "\t# 创建 MySQL 支持的时间字符串\n",
    "\trelease_time = f\"{date_str} {time_24hr}\"\n",
    "\n",
    "\tlink = row.find('a', class_='tab-link-news')\n",
    "\ttitle = link.get_text(strip=True)\n",
    "\tweb_url = link['href']\n",
    "\n",
    "\tpublisher = row.find('span').get_text(strip=True).strip('()')\n",
    "\n",
    "\tnews_item = {\n",
    "        \"title\": title,\n",
    "        \"symbol\": symbol,\n",
    "        \"release_time\": release_time,\n",
    "        \"publisher\": publisher,\n",
    "        \"web_url\": web_url\n",
    "    }\n",
    "\n",
    "\tnews.append(news_item)\n",
    "\n",
    "print(json.dumps(news[0:2], indent=4))\n"
   ]
  },
  {
   "cell_type": "markdown",
   "metadata": {},
   "source": [
    "#### 單筆寫入"
   ]
  },
  {
   "cell_type": "code",
   "execution_count": null,
   "metadata": {},
   "outputs": [],
   "source": [
    "from time import sleep\n",
    "\n",
    "SLEEP_SECOND = 1 / 10\n",
    "for item in news:\n",
    "\tres = create_one_company_news(item)\n",
    "\tprint(res)\n",
    "\tsleep(SLEEP_SECOND)"
   ]
  },
  {
   "cell_type": "markdown",
   "metadata": {},
   "source": [
    "#### 多筆寫入至資料庫 Company_news"
   ]
  },
  {
   "cell_type": "code",
   "execution_count": null,
   "metadata": {},
   "outputs": [],
   "source": [
    "url = BASE_URL + '/company-news/bulk'\n",
    "\n",
    "response = requests.post(url, headers=headers, json=news)\n",
    "\n",
    "print(f\"Status Code: {response.status_code}\")\n",
    "print(\"Response Text:\", response.text)\n",
    "\n",
    "try:\n",
    "    response_data = response.json()\n",
    "    print(json.dumps(response_data, indent=2))\n",
    "except ValueError as e:\n",
    "    # 捕获并打印异常详细信息\n",
    "    print(f\"Failed to parse JSON: {e}\")\n",
    "    print(\"Response Text:\", response.text)"
   ]
  },
  {
   "cell_type": "markdown",
   "metadata": {},
   "source": [
    "#### 取得statement"
   ]
  },
  {
   "cell_type": "code",
   "execution_count": null,
   "metadata": {},
   "outputs": [],
   "source": [
    "response = get_statement_by_symbol('CRWD')\n",
    "    \n",
    "plot_pe_forward_vs_time(response[-500:])"
   ]
  },
  {
   "cell_type": "code",
   "execution_count": null,
   "metadata": {},
   "outputs": [],
   "source": [
    "# user_subscribe_news({'newsId': 80497})\n",
    "data = get_user_subscribe_news()\n",
    "data"
   ]
  }
 ],
 "metadata": {
  "kernelspec": {
   "display_name": "Python 3",
   "language": "python",
   "name": "python3"
  },
  "language_info": {
   "codemirror_mode": {
    "name": "ipython",
    "version": 3
   },
   "file_extension": ".py",
   "mimetype": "text/x-python",
   "name": "python",
   "nbconvert_exporter": "python",
   "pygments_lexer": "ipython3",
   "version": "3.10.10"
  },
  "orig_nbformat": 4
 },
 "nbformat": 4,
 "nbformat_minor": 2
}
