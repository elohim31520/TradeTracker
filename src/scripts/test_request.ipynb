{
 "cells": [
  {
   "cell_type": "markdown",
   "metadata": {},
   "source": [
    "## Def"
   ]
  },
  {
   "cell_type": "code",
   "execution_count": null,
   "metadata": {},
   "outputs": [],
   "source": [
    "import os\n",
    "import requests\n",
    "import json\n",
    "import time\n",
    "from datetime import datetime\n",
    "from urllib.parse import urlencode\n",
    "\n",
    "BASE_URL = 'http://localhost:1234'\n",
    "\n",
    "def read_token(file_path='./token.txt'):\n",
    "    try:\n",
    "        with open(file_path, 'r') as file:\n",
    "            return file.read().strip()\n",
    "    except IOError as err:\n",
    "        print(f'Error reading token from file: {err}')\n",
    "        return None\n",
    "    \n",
    "\n",
    "def get_headers(token):\n",
    "    return {\n",
    "        'Authorization': f'Bearer {token}',\n",
    "        'Content-Type': 'application/json'\n",
    "    }\n",
    "\n",
    "token = read_token()\n",
    "\n",
    "def write_token(token):\n",
    "    if not os.path.exists('token.txt'):\n",
    "        with open('token.txt', 'w') as f:\n",
    "            f.write(token)\n",
    "    else:\n",
    "        with open('token.txt', 'w') as f:\n",
    "            f.write(token)\n",
    "        \n",
    "def register(user_name, pwd, email):\n",
    "    try:\n",
    "        response = requests.post(\n",
    "            f'{BASE_URL}/users/register',\n",
    "            json={\n",
    "                'user_name': user_name,\n",
    "                'pwd': pwd,\n",
    "                'email': email,\n",
    "            }\n",
    "        )\n",
    "        response.raise_for_status()\n",
    "        token = response.json().get('token', '')\n",
    "        if token:\n",
    "            write_token(token)\n",
    "    except requests.exceptions.RequestException as err:\n",
    "        print(f'Registration error: {err}')\n",
    "\n",
    "def login(user_name, pwd):\n",
    "    try:\n",
    "        response = requests.post(\n",
    "            f'{BASE_URL}/users/login',\n",
    "            json={\n",
    "                'user_name': user_name,\n",
    "                'pwd': pwd,\n",
    "            }\n",
    "        )\n",
    "        response.raise_for_status()\n",
    "        token = response.json().get('token', '')\n",
    "        if token:\n",
    "            write_token(token)\n",
    "    except requests.exceptions.RequestException as err:\n",
    "        print(f'Login error: {err}')\n",
    "            \n",
    "def get_all_momentum():\n",
    "    try:\n",
    "        response = requests.get(f'{BASE_URL}/marketIndex/momentum', headers=get_headers(token))\n",
    "        response.raise_for_status()\n",
    "        return response.json()\n",
    "    except requests.exceptions.RequestException as err:\n",
    "        print(f'Error fetching momentum: {err}')\n",
    "        return None\n",
    "\n",
    "def get_momentum_by_range(days):\n",
    "    try:\n",
    "        response = requests.get(f'{BASE_URL}/marketIndex/momentum/range/{days}', headers=get_headers(token))\n",
    "        response.raise_for_status()\n",
    "        return response.json()\n",
    "    except requests.exceptions.RequestException as err:\n",
    "        print(f'Error fetching momentum: {err}')\n",
    "        return None\n",
    "\n",
    "def parse_date(date_str):\n",
    "    date_format = '%Y-%m-%d'\n",
    "    try:\n",
    "        date = datetime.strptime(date_str, date_format)\n",
    "        return date.strftime(date_format)\n",
    "    except ValueError:\n",
    "        return None\n",
    "\n",
    "def record_my_transactions(transactions):\n",
    "    try:\n",
    "        for stock_id, transaction_type, quantity, price, transaction_date in transactions:\n",
    "            data = {\n",
    "                'stock_id': stock_id,\n",
    "                'transaction_type': transaction_type,\n",
    "                'quantity': quantity,\n",
    "                'price': price,\n",
    "                'transaction_date': parse_date(transaction_date) or datetime.now().strftime('%Y-%m-%d')\n",
    "            }\n",
    "            response = requests.post(f'{BASE_URL}/transactions', headers=get_headers(token), json=data)\n",
    "            if response.status_code in range(200, 300):\n",
    "                print(f'Successfully inserted: {data}')\n",
    "            else:\n",
    "                print(f'Failed to insert: {data}, Status code: {response.status_code}, Response: {response.text}')\n",
    "            time.sleep(2)\n",
    "    except requests.exceptions.RequestException as err:\n",
    "        print(f'Error recording transactions: {err}')\n",
    "\n",
    "def get_my_portfolio():\n",
    "    try:\n",
    "        response = requests.get(f'{BASE_URL}/portfolio', headers=get_headers(token))\n",
    "        response.raise_for_status()\n",
    "        return response.json()\n",
    "    except requests.exceptions.RequestException as err:\n",
    "        print(f'Error fetching portfolio: {err}')\n",
    "        return None\n",
    "\n",
    "def get_technews_by_keyword(keyword):\n",
    "    try:\n",
    "        response = requests.get(f\"{BASE_URL}/technews/search?keyword={keyword}\", headers=get_headers(token))\n",
    "        response.raise_for_status()\n",
    "        data = response.json()\n",
    "        return data[::-1]  # 反转列表\n",
    "    except requests.exceptions.RequestException as err:\n",
    "        print(f'Error fetching technews: {err}')\n",
    "        return None\n",
    "    \n",
    "def getAllTechnews (page, size):\n",
    "    if not isinstance(page, int) or not isinstance(size, int) or page <= 0 or size <= 0:\n",
    "        print('Valid page & size required')\n",
    "        return []\n",
    "\n",
    "    params = {\n",
    "        'page': page,\n",
    "        'size': size\n",
    "\t}\n",
    "    paramsStr = urlencode(params)\n",
    "    try:\n",
    "        response = requests.get(f\"{BASE_URL}/technews?{paramsStr}\", headers=get_headers(token))\n",
    "        response.raise_for_status()\n",
    "        data = response.json()\n",
    "        return data[::-1]  # 反转列表\n",
    "    except requests.exceptions.RequestException as err:\n",
    "        print(f'Error fetching technews: {err}')\n",
    "        return None\n",
    "    \n",
    "def create_one_company_news (params):\n",
    "\ttry:\n",
    "\t\tresponse = requests.post(f\"{BASE_URL}/company-news\", headers=get_headers(token), json=params)\n",
    "\t\tresponse.raise_for_status()\n",
    "\t\treturn response.json()\n",
    "\texcept requests.exceptions.RequestException as err:\n",
    "\t\tprint(f'Error post company_news: {err}')\n",
    "\t\treturn None\n",
    "    \n",
    "def get_all_company_news (page, size):\n",
    "\tif not isinstance(page, int) or not isinstance(page, int) or page <= 0 or size <=0:\n",
    "\t\tprint('Valid page & size required')\n",
    "\t\treturn []\n",
    "\n",
    "\tparams = f\"page={page}&size={size}\"\n",
    "\ttry:\n",
    "\t\tresponse = requests.get(f\"{BASE_URL}/company-news?{params}\", headers=get_headers(token))\n",
    "\t\tresponse.raise_for_status()\n",
    "\t\treturn response.json()\n",
    "\texcept requests.exceptions.RequestException as err:\n",
    "\t\tprint(f'Error fetching technews: {err}')\n",
    "\t\treturn None\n",
    "\n",
    "def get_statement_by_symbol(symbol):\n",
    "    try:\n",
    "        url = f\"{BASE_URL}/statements/{symbol}\"\n",
    "        response = requests.get(url, headers=get_headers(token))\n",
    "        response.raise_for_status()\n",
    "        data = response.json()\n",
    "        return data\n",
    "    except requests.exceptions.RequestException as err:\n",
    "        print(f'Error fetching financial statement for {symbol}: {err}')\n",
    "        return None\n",
    "    \n",
    "def get_user_subscribe_news():\n",
    "    try:\n",
    "        url = f\"{BASE_URL}/subscribe/technews\"\n",
    "        response = requests.get(url, headers=get_headers(token))\n",
    "        response.raise_for_status()\n",
    "        data = response.json()\n",
    "        return data\n",
    "    except requests.exceptions.RequestException as err:\n",
    "        print(f'Error fetching financial statement for {symbol}: {err}')\n",
    "        return None\n",
    "    \n",
    "def user_subscribe_news(params):\n",
    "    try:\n",
    "        url = f\"{BASE_URL}/subscribe/technews\"\n",
    "        response = requests.post(url, headers=get_headers(token), json=params)\n",
    "        response.raise_for_status()\n",
    "        data = response.json()\n",
    "        return data\n",
    "    except requests.exceptions.RequestException as err:\n",
    "        print(f'Error fetching financial statement for {symbol}: {err}')\n",
    "        return None"
   ]
  },
  {
   "cell_type": "markdown",
   "metadata": {},
   "source": [
    "### 登入"
   ]
  },
  {
   "cell_type": "code",
   "execution_count": null,
   "metadata": {},
   "outputs": [],
   "source": [
    "login(user_name='', pwd='')"
   ]
  },
  {
   "cell_type": "markdown",
   "metadata": {},
   "source": [
    "#### 註冊"
   ]
  },
  {
   "cell_type": "code",
   "execution_count": null,
   "metadata": {},
   "outputs": [],
   "source": [
    "register(user_name='', pwd='', email='')"
   ]
  },
  {
   "cell_type": "markdown",
   "metadata": {},
   "source": [
    "### 取得動能指標"
   ]
  },
  {
   "cell_type": "code",
   "execution_count": null,
   "metadata": {},
   "outputs": [],
   "source": [
    "# my_data = get_all_momentum()\n",
    "# print(my_data)\n",
    "\n",
    "my_data = get_momentum_by_range(7)\n",
    "print(my_data)"
   ]
  },
  {
   "cell_type": "markdown",
   "metadata": {},
   "source": [
    "#### 畫出動能"
   ]
  },
  {
   "cell_type": "code",
   "execution_count": null,
   "metadata": {},
   "outputs": [],
   "source": [
    "\n",
    "import matplotlib.pyplot as plt\n",
    "import pandas as pd\n",
    "from matplotlib.dates import DateFormatter\n",
    "\n",
    "# 将数据转换为 DataFrame\n",
    "df = pd.DataFrame(my_data)\n",
    "\n",
    "# 将 'createdAt' 列转换为日期时间对象\n",
    "df['createdAt'] = pd.to_datetime(df['createdAt'])\n",
    "\n",
    "# 绘制时间序列数据\n",
    "plt.figure(figsize=(10, 6))\n",
    "plt.plot(df['createdAt'], df['volume'], marker='o', linestyle='-', color='#efb441')\n",
    "\n",
    "# 格式化 x 轴的时间显示\n",
    "plt.gca().xaxis.set_major_formatter(DateFormatter('%Y-%m-%d %H:%M'))\n",
    "\n",
    "# 设置标题和标签\n",
    "plt.title('Time Series Momentum')\n",
    "plt.xlabel('Time')\n",
    "plt.ylabel('Volume')\n",
    "\n",
    "# 显示网格\n",
    "plt.grid(True)\n",
    "\n",
    "# 自动调整 x 轴日期标签显示\n",
    "plt.gcf().autofmt_xdate()\n",
    "\n",
    "# 显示图形\n",
    "plt.show()"
   ]
  },
  {
   "cell_type": "markdown",
   "metadata": {},
   "source": [
    "### 記錄交易"
   ]
  },
  {
   "cell_type": "code",
   "execution_count": null,
   "metadata": {},
   "outputs": [],
   "source": [
    "transactions = [\n",
    "\t('ANET', 'buy', 7, 106.62 , '2025-2-14'),\n",
    "]"
   ]
  },
  {
   "cell_type": "code",
   "execution_count": null,
   "metadata": {},
   "outputs": [],
   "source": [
    "record_my_transactions(transactions)"
   ]
  },
  {
   "cell_type": "markdown",
   "metadata": {},
   "source": [
    "### MY Portfolio"
   ]
  },
  {
   "cell_type": "code",
   "execution_count": null,
   "metadata": {},
   "outputs": [],
   "source": [
    "import math\n",
    "my_portfolio = get_my_portfolio()\n",
    "for item in my_portfolio:\n",
    "\tquantity = item.get('quantity', '?')\n",
    "\taverage_price = item.get('average_price', '?')\n",
    "\tstock_id = item.get('stock_id', '?')\n",
    "\tprint(stock_id + ' ' + str(quantity) + ' * ' + str(average_price) + ' = ' + str(math.ceil(float(quantity) * float(average_price)))  + '\\n')"
   ]
  },
  {
   "cell_type": "code",
   "execution_count": null,
   "metadata": {},
   "outputs": [],
   "source": [
    "import matplotlib.pyplot as plt\n",
    "\n",
    "# 计算每个 stock_id 的总价值\n",
    "portfolio_values = {}\n",
    "for item in my_portfolio:\n",
    "    stock_id = item['stock_id']\n",
    "    quantity = item['quantity']\n",
    "    average_price = float(item['average_price'])  # 转换为浮点数\n",
    "    total_value = quantity * average_price\n",
    "    if stock_id in portfolio_values:\n",
    "        portfolio_values[stock_id] += total_value\n",
    "    else:\n",
    "        portfolio_values[stock_id] = total_value\n",
    "\n",
    "# 计算投资组合中剩余的 USD 价值\n",
    "portfolio_values['USD'] = 2000\n",
    "\n",
    "portfolio_values = {k: v for k, v in portfolio_values.items() if v > 0}\n",
    "\n",
    "sorted_portfolio_values = dict(sorted(portfolio_values.items(), key=lambda item: item[1], reverse=True))\n",
    "\n",
    "# 准备数据绘制饼图\n",
    "labels = sorted_portfolio_values.keys()\n",
    "sizes = sorted_portfolio_values.values()\n",
    "colors = plt.get_cmap('Set2').colors  # 使用预设的颜色映射\n",
    "explode = [0.1] * len(labels)  # 使每个切片稍微突出\n",
    "\n",
    "# 绘制饼图\n",
    "plt.figure(figsize=(10, 7))\n",
    "plt.pie(sizes, explode=explode, labels=labels, autopct='%1.1f%%', colors=colors, startangle=140)\n",
    "plt.title('Portfolio Distribution by Stock')\n",
    "plt.show()"
   ]
  },
  {
   "cell_type": "markdown",
   "metadata": {},
   "source": [
    "### search news by keyword"
   ]
  },
  {
   "cell_type": "code",
   "execution_count": null,
   "metadata": {},
   "outputs": [],
   "source": [
    "keyword = 'ai'\n",
    "\n",
    "news = get_technews_by_keyword(keyword)\n",
    "\n",
    "for item in news:\n",
    "\tid = item.get('id', 'No id')\n",
    "\ttitle = item.get('title', 'No Title')\n",
    "\ttime = item.get('release_time', 'No Time')\n",
    "\tweb_url = item.get('web_url', '')\n",
    "\tprint(str(id) + ' : ' + title + ' ' + time + '\\n')\n",
    "\tprint(web_url + '\\n')\n",
    "\tprint('----------')"
   ]
  },
  {
   "cell_type": "code",
   "execution_count": null,
   "metadata": {},
   "outputs": [],
   "source": [
    "all_news = getAllTechnews(page=1, size=5000)\n",
    "for item in all_news:\n",
    "\ttitle = item.get('title', 'No Title')\n",
    "\ttime = item.get('release_time', 'No Time')\n",
    "\tweb_url = item.get('web_url', '')\n",
    "\tprint(title + ' ' + time + '\\n')\n",
    "\tprint(web_url + '\\n')\n",
    "\tprint('----------')"
   ]
  },
  {
   "cell_type": "markdown",
   "metadata": {},
   "source": [
    "#### 搜索Company news"
   ]
  },
  {
   "cell_type": "code",
   "execution_count": null,
   "metadata": {},
   "outputs": [],
   "source": [
    "all_news = get_all_company_news(page=1, size=10)\n",
    "\n",
    "for item in all_news:\n",
    "\tcompany_name = item.get('companyName', '? companyName')\n",
    "\ttitle = item.get('title', 'No Title')\n",
    "\ttime = item.get('release_time', 'No Time')\n",
    "\tweb_url = item.get('web_url', '')\n",
    "\tprint(company_name + ':'+ '\\n')\n",
    "\tprint(title + ' ' + time + '\\n')\n",
    "\tprint(web_url + '\\n')\n",
    "\tprint('----------')"
   ]
  },
  {
   "cell_type": "markdown",
   "metadata": {},
   "source": [
    "#### 讀取Html 轉成json資料"
   ]
  },
  {
   "cell_type": "code",
   "execution_count": null,
   "metadata": {},
   "outputs": [],
   "source": [
    "symbol = 'ANET'"
   ]
  },
  {
   "cell_type": "code",
   "execution_count": null,
   "metadata": {},
   "outputs": [],
   "source": [
    "from bs4 import BeautifulSoup\n",
    "from datetime import datetime, timezone\n",
    "\n",
    "with open('index.html', 'r', encoding='utf-8') as file:\n",
    "\thtml_content = file.read()\n",
    "\n",
    "soup = BeautifulSoup(html_content, 'html.parser')\n",
    "\n",
    "news = []\n",
    "\n",
    "for row in soup.find_all('tr', class_='cursor-pointer has-label'):\n",
    "\ttime_cell = row.find('td', align='right')\n",
    "\ttime_text = time_cell.get_text(strip=True).replace('Today', '')\n",
    "\n",
    "\tif 'Today' in time_text:\n",
    "\t\ttime_text = time_text.replace('Today', '')\n",
    "\t\tnow = datetime.now(timezone.utc)\n",
    "\t\tdate_str = now.date().isoformat()\n",
    "\telse:\n",
    "\t\tnow = datetime.now(timezone.utc)\n",
    "\t\tdate_str = now.date().isoformat()\n",
    "\n",
    "\ttry:\n",
    "\t\ttime_obj = datetime.strptime(time_text, '%I:%M%p')\n",
    "\t\ttime_24hr = time_obj.strftime('%H:%M:%S')\n",
    "\texcept ValueError:\n",
    "\t\t# 如果时间格式无法解析，使用默认时间\n",
    "\t\ttime_24hr = '00:00:00'\n",
    "\t\t\n",
    "\t# 创建 MySQL 支持的时间字符串\n",
    "\trelease_time = f\"{date_str} {time_24hr}\"\n",
    "\n",
    "\tlink = row.find('a', class_='tab-link-news')\n",
    "\ttitle = link.get_text(strip=True)\n",
    "\tweb_url = link['href']\n",
    "\n",
    "\tpublisher = row.find('span').get_text(strip=True).strip('()')\n",
    "\n",
    "\tnews_item = {\n",
    "        \"title\": title,\n",
    "        \"symbol\": symbol,\n",
    "        \"release_time\": release_time,\n",
    "        \"publisher\": publisher,\n",
    "        \"web_url\": web_url\n",
    "    }\n",
    "\n",
    "\tnews.append(news_item)\n",
    "\n",
    "print(json.dumps(news, indent=4))\n"
   ]
  },
  {
   "cell_type": "markdown",
   "metadata": {},
   "source": [
    "#### 多筆寫入至資料庫 Company_news"
   ]
  },
  {
   "cell_type": "code",
   "execution_count": null,
   "metadata": {},
   "outputs": [],
   "source": [
    "url = BASE_URL + '/company-news/bulk'\n",
    "\n",
    "response = requests.post(url, headers=headers, json=news)\n",
    "\n",
    "print(f\"Status Code: {response.status_code}\")\n",
    "print(\"Response Text:\", response.text)\n",
    "\n",
    "try:\n",
    "    response_data = response.json()\n",
    "    print(json.dumps(response_data, indent=2))\n",
    "except ValueError as e:\n",
    "    # 捕获并打印异常详细信息\n",
    "    print(f\"Failed to parse JSON: {e}\")\n",
    "    print(\"Response Text:\", response.text)"
   ]
  },
  {
   "cell_type": "markdown",
   "metadata": {},
   "source": [
    "#### 單筆寫入"
   ]
  },
  {
   "cell_type": "code",
   "execution_count": null,
   "metadata": {},
   "outputs": [],
   "source": [
    "from time import sleep\n",
    "\n",
    "for item in news:\n",
    "\tres = create_one_company_news(item)\n",
    "\tprint(res)\n",
    "\tsleep(1)"
   ]
  },
  {
   "cell_type": "markdown",
   "metadata": {},
   "source": [
    "#### 取得statement"
   ]
  },
  {
   "cell_type": "code",
   "execution_count": null,
   "metadata": {},
   "outputs": [],
   "source": [
    "symbo = 'nvda'"
   ]
  },
  {
   "cell_type": "code",
   "execution_count": 40,
   "metadata": {},
   "outputs": [],
   "source": [
    "import matplotlib.pyplot as plt\n",
    "import matplotlib.dates as mdates\n",
    "from datetime import datetime\n",
    "\n",
    "def plot_pe_forward_vs_time(data):\n",
    "    # 提取 'createdAt' 和 'PE_Forward' 数据\n",
    "    timestamps = []\n",
    "    pe_forward_values = []\n",
    "    \n",
    "    for entry in data:\n",
    "        # 解析时间字段\n",
    "        created_at = entry.get('createdAt', '')\n",
    "        pe_forward = entry.get('PE_Forward', None)\n",
    "        \n",
    "        if created_at and pe_forward is not None:\n",
    "            # 将 'createdAt' 转换为 datetime 对象\n",
    "            timestamp = datetime.strptime(created_at, \"%Y-%m-%dT%H:%M:%S.%fZ\")\n",
    "            timestamps.append(timestamp)\n",
    "            \n",
    "            # 将 'PE_Forward' 转换为浮动数字\n",
    "            pe_forward_values.append(float(pe_forward))\n",
    "    \n",
    "    # 创建图形\n",
    "    plt.figure(figsize=(10, 6))\n",
    "    plt.plot(timestamps, pe_forward_values, marker='o', linestyle='-', color='#efb441', label='PE Forward')\n",
    "\n",
    "    # 设置标题和标签\n",
    "    plt.title('PE Forward vs Time')\n",
    "    plt.xlabel('Date')\n",
    "    plt.ylabel('PE Forward')\n",
    "\n",
    "    plt.gca().xaxis.set_major_formatter(mdates.DateFormatter('%Y-%m-%d'))\n",
    "    plt.gca().xaxis.set_major_locator(mdates.DayLocator(interval=10))\n",
    "    plt.gcf().autofmt_xdate()  # 自动旋转日期标签，使其更易读\n",
    "\n",
    "    # 显示图例\n",
    "    plt.legend()\n",
    "\n",
    "    # 显示图表\n",
    "    plt.tight_layout()\n",
    "    plt.show()"
   ]
  },
  {
   "cell_type": "code",
   "execution_count": 43,
   "metadata": {},
   "outputs": [
    {
     "data": {
      "image/png": "[encoded data removed]",
      "text/plain": [
       "<Figure size 1000x600 with 1 Axes>"
      ]
     },
     "metadata": {},
     "output_type": "display_data"
    }
   ],
   "source": [
    "response = get_statement_by_symbol('goog')\n",
    "    \n",
    "plot_pe_forward_vs_time(response)"
   ]
  },
  {
   "cell_type": "code",
   "execution_count": null,
   "metadata": {},
   "outputs": [],
   "source": [
    "# user_subscribe_news({'newsId': 80497})\n",
    "data = get_user_subscribe_news()\n",
    "data"
   ]
  }
 ],
 "metadata": {
  "kernelspec": {
   "display_name": "Python 3",
   "language": "python",
   "name": "python3"
  },
  "language_info": {
   "codemirror_mode": {
    "name": "ipython",
    "version": 3
   },
   "file_extension": ".py",
   "mimetype": "text/x-python",
   "name": "python",
   "nbconvert_exporter": "python",
   "pygments_lexer": "ipython3",
   "version": "3.10.10"
  },
  "orig_nbformat": 4
 },
 "nbformat": 4,
 "nbformat_minor": 2
}
