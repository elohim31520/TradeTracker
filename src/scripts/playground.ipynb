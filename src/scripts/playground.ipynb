{
 "cells": [
  {
   "cell_type": "code",
   "execution_count": 25,
   "metadata": {},
   "outputs": [
    {
     "data": {
      "text/plain": [
       "[[1, 2, 3], [8, 9, 4], [7, 6, 5]]"
      ]
     },
     "execution_count": 25,
     "metadata": {},
     "output_type": "execute_result"
    }
   ],
   "source": [
    "def generate_matrix (n):\n",
    "\tif n <= 0:\n",
    "\t\treturn []\n",
    "\tresult = [[0] * n for _ in range(n)]\n",
    "\tleft, right = 0 , n - 1\n",
    "\ttop, bottom = 0 , n - 1\n",
    "\tnum = 1\n",
    "\n",
    "\twhile left <= right and top <= bottom:\n",
    "\t\tfor i in range(left, right + 1):\n",
    "\t\t\tresult[top][i] = num\n",
    "\t\t\tnum += 1\n",
    "\t\ttop += 1\n",
    "\n",
    "\t\tfor i in range(top , bottom + 1):\n",
    "\t\t\tresult[i][right] = num\n",
    "\t\t\tnum += 1\n",
    "\t\tright -= 1\n",
    "\t\t\n",
    "\t\tfor i in range(right, left - 1, -1):\n",
    "\t\t\tresult[bottom][i] = num\n",
    "\t\t\tnum += 1\n",
    "\t\tbottom -= 1\n",
    "\n",
    "\t\tfor i in range(bottom, top - 1, -1):\n",
    "\t\t\tresult[i][left] = num\n",
    "\t\t\tnum += 1\n",
    "\t\tleft += 1\n",
    "\n",
    "\treturn result\n",
    "\n",
    "generate_matrix(3)"
   ]
  },
  {
   "cell_type": "code",
   "execution_count": 1,
   "metadata": {},
   "outputs": [
    {
     "name": "stdout",
     "output_type": "stream",
     "text": [
      "[6, 8, 14, 19, 20, 23, 41, 49, 53, 56, 65, 73, 87, 99]\n"
     ]
    }
   ],
   "source": [
    "def comb_sort(items):\n",
    "    gap = len(items)\n",
    "    shrink = 1.3\n",
    "    sorted = False\n",
    "    while not sorted:\n",
    "        gap = int(gap // shrink)\n",
    "        if gap <= 1:\n",
    "            gap = 1  # 確保 gap 不會變成 0\n",
    "            sorted = True\n",
    "        for i in range(len(items) - gap):\n",
    "            if items[i] > items[i + gap]:\n",
    "                items[i], items[i + gap] = items[i + gap], items[i]\n",
    "    return items  # 直接返回排序後的 items\n",
    "\n",
    "items = [99, 73, 6, 20, 8, 19, 56, 65,  23, 87, 41, 49, 53, 14]\n",
    "print(comb_sort(items))"
   ]
  }
 ],
 "metadata": {
  "kernelspec": {
   "display_name": "base",
   "language": "python",
   "name": "python3"
  },
  "language_info": {
   "codemirror_mode": {
    "name": "ipython",
    "version": 3
   },
   "file_extension": ".py",
   "mimetype": "text/x-python",
   "name": "python",
   "nbconvert_exporter": "python",
   "pygments_lexer": "ipython3",
   "version": "3.10.10"
  }
 },
 "nbformat": 4,
 "nbformat_minor": 2
}
