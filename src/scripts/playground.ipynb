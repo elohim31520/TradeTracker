{
 "cells": [
  {
   "cell_type": "code",
   "execution_count": null,
   "metadata": {},
   "outputs": [],
   "source": [
    "def generate_matrix (n):\n",
    "\tif n <= 0:\n",
    "\t\treturn []\n",
    "\tresult = [[0] * n for _ in range(n)]\n",
    "\tleft, right = 0 , n - 1\n",
    "\ttop, bottom = 0 , n - 1\n",
    "\tnum = 1\n",
    "\n",
    "\twhile left <= right and top <= bottom:\n",
    "\t\tfor i in range(left, right + 1):\n",
    "\t\t\tresult[top][i] = num\n",
    "\t\t\tnum += 1\n",
    "\t\ttop += 1\n",
    "\n",
    "\t\tfor i in range(top , bottom + 1):\n",
    "\t\t\tresult[i][right] = num\n",
    "\t\t\tnum += 1\n",
    "\t\tright -= 1\n",
    "\t\t\n",
    "\t\tfor i in range(right, left - 1, -1):\n",
    "\t\t\tresult[bottom][i] = num\n",
    "\t\t\tnum += 1\n",
    "\t\tbottom -= 1\n",
    "\n",
    "\t\tfor i in range(bottom, top - 1, -1):\n",
    "\t\t\tresult[i][left] = num\n",
    "\t\t\tnum += 1\n",
    "\t\tleft += 1\n",
    "\n",
    "\treturn result\n",
    "\n",
    "generate_matrix(3)"
   ]
  },
  {
   "cell_type": "code",
   "execution_count": null,
   "metadata": {},
   "outputs": [],
   "source": [
    "def comb_sort(items):\n",
    "    gap = len(items)\n",
    "    shrink = 1.3\n",
    "    sorted = False\n",
    "    while not sorted:\n",
    "        gap = int(gap // shrink)\n",
    "        if gap <= 1:\n",
    "            gap = 1  # 確保 gap 不會變成 0\n",
    "            sorted = True\n",
    "        for i in range(len(items) - gap):\n",
    "            if items[i] > items[i + gap]:\n",
    "                items[i], items[i + gap] = items[i + gap], items[i]\n",
    "    return items  # 直接返回排序後的 items\n",
    "\n",
    "items = [99, 73, 6, 20, 8, 19, 56, 65,  23, 87, 41, 49, 53, 14]\n",
    "print(comb_sort(items))"
   ]
  },
  {
   "cell_type": "code",
   "execution_count": 23,
   "metadata": {},
   "outputs": [
    {
     "name": "stdout",
     "output_type": "stream",
     "text": [
      "eel.siwel\n"
     ]
    }
   ],
   "source": [
    "def reverseString(params):\n",
    "    newStr = list(str(params))\n",
    "    left = 0\n",
    "    right = len(newStr) - 1\n",
    "    while left < right:\n",
    "        newStr[left], newStr[right] = newStr[right], newStr[left]\n",
    "        left += 1\n",
    "        right -= 1\n",
    "    return \"\".join(newStr)\n",
    "\n",
    "result = reverseString('lewis.lee')\n",
    "print(result)"
   ]
  },
  {
   "cell_type": "code",
   "execution_count": 22,
   "metadata": {},
   "outputs": [
    {
     "data": {
      "text/plain": [
       "8"
      ]
     },
     "execution_count": 22,
     "metadata": {},
     "output_type": "execute_result"
    }
   ],
   "source": [
    "def binarySearch(nums, target):\n",
    "\tleft = 0\n",
    "\tright = len(nums) - 1\n",
    "\twhile left <= right:\n",
    "\t\tmiddle = (left + right) // 2\n",
    "\t\tif nums[middle] > target:\n",
    "\t\t\tright = middle - 1\n",
    "\t\telif nums[middle] < target:\n",
    "\t\t\tleft = middle + 1\n",
    "\t\telse:\n",
    "\t\t\treturn middle\n",
    "\treturn -1\n",
    "\n",
    "result = binarySearch([1,2,3,4,5,8,9,50,99], 99)\n",
    "result"
   ]
  },
  {
   "cell_type": "code",
   "execution_count": 14,
   "metadata": {},
   "outputs": [
    {
     "name": "stdout",
     "output_type": "stream",
     "text": [
      "鍊錶中的值：\n",
      "索引 0: 30\n",
      "索引 1: 43\n",
      "索引 2: 48\n",
      "索引 3: 75\n",
      "索引 4: 22\n",
      "索引 5: 86\n",
      "索引 6: 87\n",
      "索引 7: 74\n",
      "索引 8: 51\n",
      "索引 9: 66\n",
      "---\n",
      "索引 0: 30\n",
      "索引 1: 43\n",
      "索引 2: 48\n",
      "索引 3: 75\n",
      "索引 4: 22\n",
      "索引 5: 87\n",
      "索引 6: 74\n",
      "索引 7: 51\n",
      "索引 8: 66\n",
      "索引 9: -1\n"
     ]
    }
   ],
   "source": [
    "import random\n",
    "\n",
    "class ListNode:\n",
    "\tdef __init__(self, value=0, next=None):\n",
    "\t\tself.value = value\n",
    "\t\tself.next = None\n",
    "\n",
    "class MyLinkedList:\n",
    "\tdef __init__(self):\n",
    "\t\tself.dummyHead = ListNode()\n",
    "\t\tself.size = 0\n",
    "\n",
    "\tdef get(self, index):\n",
    "\t\tif index < 0 or index >= self.size:\n",
    "\t\t\treturn -1\n",
    "\t\tcurrent = self.dummyHead.next\n",
    "\t\tfor _ in range(index):\n",
    "\t\t\tcurrent = current.next\n",
    "\n",
    "\t\treturn current.value\n",
    "\t\n",
    "\tdef addAtIndex (self, index, value):\n",
    "\t\tif index < 0 or index > self.size:\n",
    "\t\t\treturn\n",
    "\n",
    "\t\tnewNode = ListNode(value)\n",
    "\t\tprev = self.dummyHead\n",
    "\t\tfor _ in range(index):\n",
    "\t\t\tprev = prev.next\n",
    "\n",
    "\t\tnewNode.next = prev.next\n",
    "\t\tprev.next = newNode\n",
    "\t\tself.size += 1\n",
    "\t\n",
    "\tdef addAtTail(self, value):\n",
    "\t\tself.addAtIndex(self.size, value)\n",
    "\n",
    "\tdef deleteAtIndex(self, index):\n",
    "\t\tif index < 0 or index >= self.size:\n",
    "\t\t\treturn\n",
    "\t\t\n",
    "\t\tprev = self.dummyHead\n",
    "\t\tfor _ in range(index):\n",
    "\t\t\tprev = prev.next\n",
    "\t\t\n",
    "\t\tprev.next = prev.next.next\n",
    "\t\tself.size -= 1\n",
    "\n",
    "\n",
    "myList = MyLinkedList()\n",
    "for _ in range(10):\n",
    "    myList.addAtTail(random.randint(1, 100))\n",
    "\n",
    "print(\"鍊錶中的值：\")\n",
    "for i in range(10):\n",
    "    print(f\"索引 {i}: {myList.get(i)}\")\n",
    "\n",
    "print('---')\n",
    "myList.deleteAtIndex(5)\n",
    "for i in range(10):\n",
    "    print(f\"索引 {i}: {myList.get(i)}\")"
   ]
  }
 ],
 "metadata": {
  "kernelspec": {
   "display_name": "base",
   "language": "python",
   "name": "python3"
  },
  "language_info": {
   "codemirror_mode": {
    "name": "ipython",
    "version": 3
   },
   "file_extension": ".py",
   "mimetype": "text/x-python",
   "name": "python",
   "nbconvert_exporter": "python",
   "pygments_lexer": "ipython3",
   "version": "3.10.10"
  }
 },
 "nbformat": 4,
 "nbformat_minor": 2
}
