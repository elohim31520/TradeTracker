{
 "cells": [
  {
   "cell_type": "code",
   "execution_count": null,
   "metadata": {},
   "outputs": [],
   "source": [
    "def generate_matrix (n):\n",
    "\tif n <= 0:\n",
    "\t\treturn []\n",
    "\tresult = [[0] * n for _ in range(n)]\n",
    "\tleft, right = 0 , n - 1\n",
    "\ttop, bottom = 0 , n - 1\n",
    "\tnum = 1\n",
    "\n",
    "\twhile left <= right and top <= bottom:\n",
    "\t\tfor i in range(left, right + 1):\n",
    "\t\t\tresult[top][i] = num\n",
    "\t\t\tnum += 1\n",
    "\t\ttop += 1\n",
    "\n",
    "\t\tfor i in range(top , bottom + 1):\n",
    "\t\t\tresult[i][right] = num\n",
    "\t\t\tnum += 1\n",
    "\t\tright -= 1\n",
    "\t\t\n",
    "\t\tfor i in range(right, left - 1, -1):\n",
    "\t\t\tresult[bottom][i] = num\n",
    "\t\t\tnum += 1\n",
    "\t\tbottom -= 1\n",
    "\n",
    "\t\tfor i in range(bottom, top - 1, -1):\n",
    "\t\t\tresult[i][left] = num\n",
    "\t\t\tnum += 1\n",
    "\t\tleft += 1\n",
    "\n",
    "\treturn result\n",
    "\n",
    "generate_matrix(3)"
   ]
  },
  {
   "cell_type": "code",
   "execution_count": null,
   "metadata": {},
   "outputs": [],
   "source": [
    "def comb_sort(items):\n",
    "    gap = len(items)\n",
    "    shrink = 1.3\n",
    "    sorted = False\n",
    "    while not sorted:\n",
    "        gap = int(gap // shrink)\n",
    "        if gap <= 1:\n",
    "            gap = 1  # 確保 gap 不會變成 0\n",
    "            sorted = True\n",
    "        for i in range(len(items) - gap):\n",
    "            if items[i] > items[i + gap]:\n",
    "                items[i], items[i + gap] = items[i + gap], items[i]\n",
    "    return items  # 直接返回排序後的 items\n",
    "\n",
    "items = [99, 73, 6, 20, 8, 19, 56, 65,  23, 87, 41, 49, 53, 14]\n",
    "print(comb_sort(items))"
   ]
  },
  {
   "cell_type": "code",
   "execution_count": 23,
   "metadata": {},
   "outputs": [
    {
     "name": "stdout",
     "output_type": "stream",
     "text": [
      "eel.siwel\n"
     ]
    }
   ],
   "source": [
    "def reverseString(params):\n",
    "    newStr = list(str(params))\n",
    "    left = 0\n",
    "    right = len(newStr) - 1\n",
    "    while left < right:\n",
    "        newStr[left], newStr[right] = newStr[right], newStr[left]\n",
    "        left += 1\n",
    "        right -= 1\n",
    "    return \"\".join(newStr)\n",
    "\n",
    "result = reverseString('lewis.lee')\n",
    "print(result)"
   ]
  },
  {
   "cell_type": "code",
   "execution_count": 22,
   "metadata": {},
   "outputs": [
    {
     "data": {
      "text/plain": [
       "8"
      ]
     },
     "execution_count": 22,
     "metadata": {},
     "output_type": "execute_result"
    }
   ],
   "source": [
    "def binarySearch(nums, target):\n",
    "\tleft = 0\n",
    "\tright = len(nums) - 1\n",
    "\twhile left <= right:\n",
    "\t\tmiddle = (left + right) // 2\n",
    "\t\tif nums[middle] > target:\n",
    "\t\t\tright = middle - 1\n",
    "\t\telif nums[middle] < target:\n",
    "\t\t\tleft = middle + 1\n",
    "\t\telse:\n",
    "\t\t\treturn middle\n",
    "\treturn -1\n",
    "\n",
    "result = binarySearch([1,2,3,4,5,8,9,50,99], 99)\n",
    "result"
   ]
  },
  {
   "cell_type": "code",
   "execution_count": 15,
   "metadata": {},
   "outputs": [
    {
     "name": "stdout",
     "output_type": "stream",
     "text": [
      "鍊錶中的值：\n",
      "索引 0: 98\n",
      "索引 1: 24\n",
      "索引 2: 44\n",
      "索引 3: 55\n",
      "索引 4: 56\n",
      "索引 5: 75\n",
      "索引 6: 81\n",
      "索引 7: 100\n",
      "索引 8: 8\n",
      "索引 9: 55\n",
      "---\n",
      "索引 0: 98\n",
      "索引 1: 24\n",
      "索引 2: 44\n",
      "索引 3: 55\n",
      "索引 4: 56\n",
      "索引 5: 81\n",
      "索引 6: 100\n",
      "索引 7: 8\n",
      "索引 8: 55\n",
      "索引 9: -1\n"
     ]
    }
   ],
   "source": [
    "import random\n",
    "\n",
    "class ListNode:\n",
    "\tdef __init__(self, value=0, next=None):\n",
    "\t\tself.value = value\n",
    "\t\tself.next = None\n",
    "\n",
    "class MyLinkedList:\n",
    "\tdef __init__(self):\n",
    "\t\tself.dummyHead = ListNode()\n",
    "\t\tself.size = 0\n",
    "\n",
    "\tdef get(self, index):\n",
    "\t\tif index < 0 or index >= self.size:\n",
    "\t\t\treturn -1\n",
    "\t\tcurrent = self.dummyHead.next\n",
    "\t\tfor _ in range(index):\n",
    "\t\t\tcurrent = current.next\n",
    "\n",
    "\t\treturn current.value\n",
    "\t\n",
    "\tdef addAtIndex (self, index, value):\n",
    "\t\tif index < 0 or index > self.size:\n",
    "\t\t\treturn\n",
    "\n",
    "\t\tnewNode = ListNode(value)\n",
    "\t\tprev = self.dummyHead\n",
    "\t\tfor _ in range(index):\n",
    "\t\t\tprev = prev.next\n",
    "\n",
    "\t\tnewNode.next = prev.next\n",
    "\t\tprev.next = newNode\n",
    "\t\tself.size += 1\n",
    "\t\n",
    "\tdef addAtTail(self, value):\n",
    "\t\tself.addAtIndex(self.size, value)\n",
    "\n",
    "\tdef deleteAtIndex(self, index):\n",
    "\t\tif index < 0 or index >= self.size:\n",
    "\t\t\treturn\n",
    "\t\t\n",
    "\t\tprev = self.dummyHead\n",
    "\t\tfor _ in range(index):\n",
    "\t\t\tprev = prev.next\n",
    "\t\t\n",
    "\t\tprev.next = prev.next.next\n",
    "\t\tself.size -= 1\n",
    "\n",
    "\n",
    "myList = MyLinkedList()\n",
    "for _ in range(10):\n",
    "    myList.addAtTail(random.randint(1, 100))\n",
    "\n",
    "print(\"鍊錶中的值：\")\n",
    "for i in range(10):\n",
    "    print(f\"索引 {i}: {myList.get(i)}\")\n",
    "\n",
    "print('---')\n",
    "myList.deleteAtIndex(5)\n",
    "for i in range(10):\n",
    "    print(f\"索引 {i}: {myList.get(i)}\")"
   ]
  },
  {
   "cell_type": "code",
   "execution_count": 43,
   "metadata": {},
   "outputs": [
    {
     "data": {
      "text/plain": [
       "15"
      ]
     },
     "execution_count": 43,
     "metadata": {},
     "output_type": "execute_result"
    }
   ],
   "source": [
    "def getRangeSum(nums, left, right):\n",
    "\tprefix_sums = [0] * (len(nums) + 1)\n",
    "\n",
    "\tfor i in range(1, len(nums) + 1):\n",
    "\t\tprefix_sums[i] = prefix_sums[i - 1] +  nums[i - 1]\n",
    "\n",
    "\treturn prefix_sums[right + 1] - prefix_sums[left]\n",
    "\n",
    "result = getRangeSum([1, 2, 3, 4, 5], 0, 4)\n",
    "result"
   ]
  },
  {
   "cell_type": "code",
   "execution_count": 19,
   "metadata": {},
   "outputs": [
    {
     "data": {
      "text/plain": [
       "[3, 99, 99, 99, 5, 6, 7]"
      ]
     },
     "execution_count": 19,
     "metadata": {},
     "output_type": "execute_result"
    }
   ],
   "source": [
    "from collections import deque\n",
    "\n",
    "def maxSlidingWindow(nums, k):\n",
    "\tif(len(nums) ==0 or k<= 0):\n",
    "\t\treturn []\n",
    "\t\n",
    "\tdeq = deque()\n",
    "\tresult = []\n",
    "\n",
    "\tfor i in range(len(nums)):\n",
    "\t\tif deq and deq[0] <= i - k:\n",
    "\t\t\tdeq.popleft()\n",
    "\n",
    "\t\twhile deq and nums[deq[-1]] <= nums[i]:\n",
    "\t\t\tdeq.pop()\n",
    "\n",
    "\t\tdeq.append(i)\n",
    "\t\t\n",
    "\t\tif i >= k - 1:\n",
    "\t\t\tresult.append(nums[deq[0]])\n",
    "\n",
    "\treturn result\n",
    "\n",
    "res = maxSlidingWindow([1,3,-1,99,-3,5,3,6,7], 3)\n",
    "res"
   ]
  },
  {
   "cell_type": "code",
   "execution_count": 6,
   "metadata": {},
   "outputs": [
    {
     "data": {
      "text/plain": [
       "[[-1, 2, -1], [0, 1, -1]]"
      ]
     },
     "execution_count": 6,
     "metadata": {},
     "output_type": "execute_result"
    }
   ],
   "source": [
    "def three_sum(nums: list) -> list:\n",
    "\tresult = []\n",
    "\tnums.sort()\n",
    "\tfor i in range(len(nums) - 2):\n",
    "\t\tif nums[i] > 0:\n",
    "\t\t\treturn result\n",
    "\t\tleft = i + 1\n",
    "\t\tright = len(nums) - 1\n",
    "\t\tif i > 0 and nums[i] == nums[i - 1]:\n",
    "\t\t\tcontinue\n",
    "\t\tif nums[i] > 0:\n",
    "\t\t\tbreak\n",
    "\t\twhile right > left:\n",
    "\t\t\ttotal = nums[left] + nums[right] + nums[i]\n",
    "\t\t\tif total < 0:\n",
    "\t\t\t\tleft += 1\n",
    "\t\t\telif total > 0:\n",
    "\t\t\t\tright -= 1\n",
    "\t\t\telse:\n",
    "\t\t\t\tresult.append([nums[left] , nums[right] , nums[i]])\n",
    "\t\t\t\twhile nums[left] == nums[left + 1]:\n",
    "\t\t\t\t\tleft += 1\n",
    "\t\t\t\twhile nums[right] == nums[right - 1]:\n",
    "\t\t\t\t\tright -= 1\n",
    "\t\t\t\tleft += 1\n",
    "\t\t\t\tright -= 1\n",
    "\treturn result\n",
    "\n",
    "nums = [-1, 0, 1, 2, -1, -4]\n",
    "res = three_sum(nums)\n",
    "res"
   ]
  },
  {
   "cell_type": "code",
   "execution_count": 2,
   "metadata": {},
   "outputs": [
    {
     "name": "stdout",
     "output_type": "stream",
     "text": [
      "[6, 8, 19, 20, 23, 56, 41, 49, 53, 87]\n"
     ]
    }
   ],
   "source": [
    "def insertion_sort(items):\n",
    "\tfor i in range(len(items)):\n",
    "\t\tj = i\n",
    "\t\twhile(j > 0 and (items[j - 1]) > items[j]):\n",
    "\t\t\titems[j - 1], items[j] = items[j], items[j - 1]\n",
    "\treturn items\n",
    "\n",
    "items = [6,20,8,19,56,23,87,41,49,53]\n",
    "print(insertion_sort(items))"
   ]
  },
  {
   "cell_type": "code",
   "execution_count": 44,
   "metadata": {},
   "outputs": [
    {
     "name": "stdout",
     "output_type": "stream",
     "text": [
      "--- 2D DP Table ---\n",
      "[0, 15, 15, 15, 15]\n",
      "[0, 15, 20, 35, 35]\n",
      "[0, 15, 20, 35, 35]\n",
      "-------------------\n"
     ]
    },
    {
     "data": {
      "text/plain": [
       "35"
      ]
     },
     "execution_count": 44,
     "metadata": {},
     "output_type": "execute_result"
    }
   ],
   "source": [
    "values = [15, 20 ,30]\n",
    "weights = [1, 2, 4]\n",
    "n = len(values)\n",
    "\n",
    "def get_max_values_of_bag(values, weights, bag_weights):\n",
    "\tdp = [[0] * (bag_weights + 1) for _ in range(n)]\n",
    "\tfor j in range(weights[0], bag_weights + 1):\n",
    "\t\tdp[0][j] = values[0]\n",
    "\n",
    "\tfor i in range(1, n):\n",
    "\t\tfor j in range(bag_weights + 1):\n",
    "\t\t\tif j < weights[i]:\n",
    "\t\t\t\tdp[i][j] = dp[i - 1][j]\n",
    "\t\t\telse:\n",
    "\t\t\t\tdp[i][j] = max(dp[i - 1][j], dp[i - 1][j - weights[i]] + values[i])\n",
    "\n",
    "\tprint(\"--- 2D DP Table ---\")\n",
    "\tfor row in dp:\n",
    "\t\tprint(row)\n",
    "\tprint(\"-------------------\")\n",
    "\n",
    "\treturn dp[n - 1][bag_weights]\n",
    "\n",
    "res = get_max_values_of_bag(values, weights, bag_weights = 4)\n",
    "res"
   ]
  },
  {
   "cell_type": "code",
   "execution_count": 43,
   "metadata": {},
   "outputs": [
    {
     "name": "stdout",
     "output_type": "stream",
     "text": [
      "--- 2D DP Table ---\n",
      "[0, 0, 0, 0, 0, 0, 0, 0, 0, 0, 0, 0]\n",
      "[0, 1, 1, 1, 1, 1, 1, 1, 1, 1, 1, 1]\n",
      "[0, 1, 1, 1, 1, 5, 6, 6, 6, 6, 6, 6]\n",
      "[0, 1, 1, 1, 1, 5, 6, 6, 6, 6, 6, 11]\n",
      "[0, 1, 1, 1, 1, 5, 6, 6, 6, 6, 10, 11]\n",
      "-------------------\n",
      "2D DP Result: True\n"
     ]
    }
   ],
   "source": [
    "def canPartition_2D_numeric(nums):\n",
    "    total_sum = sum(nums)\n",
    "\n",
    "    if total_sum % 2 != 0:\n",
    "        return False\n",
    "\n",
    "    target = total_sum // 2\n",
    "    # dp[i][j] 表示使用前 i 個數字，能湊出不大於 j 的最大和\n",
    "    dp = [[0] * (target + 1) for _ in range(len(nums) + 1)] # 為了方便處理 dp[0][j] 和 dp[i][0]，通常會多加一行一列\n",
    "\n",
    "    # i 從 1 開始代表 nums 的第 0 個數字 (dp[1] 對應 nums[0])\n",
    "    for i in range(1, len(nums) + 1):\n",
    "        current_num = nums[i - 1] # 當前考慮的數字\n",
    "\n",
    "        for j in range(target + 1):\n",
    "            # 不包含當前數字 nums[i-1]\n",
    "            dp[i][j] = dp[i - 1][j]\n",
    "\n",
    "            # 嘗試包含當前數字 nums[i-1]\n",
    "            if j >= current_num:\n",
    "                # 如果包含後，能湊出更大的和，就更新\n",
    "                dp[i][j] = max(dp[i][j], dp[i - 1][j - current_num] + current_num)\n",
    "\n",
    "    # 打印 dp 陣列，方便觀察\n",
    "    print(\"--- 2D DP Table ---\")\n",
    "    for row in dp:\n",
    "        print(row)\n",
    "    print(\"-------------------\")\n",
    "\n",
    "    return dp[len(nums)][target] == target\n",
    "\n",
    "res_2d = canPartition_2D_numeric([1, 5, 11, 5])\n",
    "print(f\"2D DP Result: {res_2d}\")"
   ]
  },
  {
   "cell_type": "code",
   "execution_count": 47,
   "metadata": {},
   "outputs": [
    {
     "name": "stdout",
     "output_type": "stream",
     "text": [
      "[0, 0, 0, 0, 0, 0, 0, 0, 0, 0, 0, 0]\n"
     ]
    }
   ],
   "source": [
    "def canPartition_1D_numeric(nums):\n",
    "    total_sum = sum(nums)\n",
    "\n",
    "    if total_sum % 2 != 0:\n",
    "        return False\n",
    "\n",
    "    target = total_sum // 2\n",
    "    dp = [0] * (target + 1)\n",
    "\n",
    "\n",
    "res_1d = canPartition_1D_numeric([1, 5, 11, 5])"
   ]
  },
  {
   "cell_type": "code",
   "execution_count": 10,
   "metadata": {},
   "outputs": [
    {
     "name": "stdout",
     "output_type": "stream",
     "text": [
      "--- 2D DP Table ---\n",
      "[0, 0, 2, 2, 2, 2, 2, 2, 2, 2, 2, 2]\n",
      "[0, 0, 2, 2, 2, 2, 2, 7, 7, 9, 9, 9]\n",
      "[0, 0, 2, 2, 4, 4, 6, 7, 7, 9, 9, 11]\n",
      "[0, 1, 2, 3, 4, 5, 6, 7, 8, 9, 10, 11]\n",
      "[0, 1, 2, 3, 4, 5, 6, 7, 8, 9, 10, 11]\n",
      "[0, 1, 2, 3, 4, 5, 6, 7, 8, 9, 10, 11]\n",
      "-------------------\n"
     ]
    },
    {
     "data": {
      "text/plain": [
       "1"
      ]
     },
     "execution_count": 10,
     "metadata": {},
     "output_type": "execute_result"
    }
   ],
   "source": [
    "def lastStoneWeightII(stones):\n",
    "\ttotal_sum = sum(stones)\n",
    "\ttarget = total_sum // 2\n",
    "\tn = len(stones)\n",
    "\tdp = [[0] * (target + 1) for _ in range(n)]\n",
    "\n",
    "\tfor j in range(target + 1):\n",
    "\t\tif j >= stones[0]:\n",
    "\t\t\tdp[0][j] = stones[0]\n",
    "\t\n",
    "\tfor i in range(1, n):\n",
    "\t\tfor j in range(target + 1):\n",
    "\t\t\tif j < stones[i]:\n",
    "\t\t\t\tdp[i][j] = dp[i - 1][j]\n",
    "\t\t\telse: \n",
    "\t\t\t\tdp[i][j] = max(dp[i - 1][j], dp[i - 1][j - stones[i]] + stones[i])\n",
    "\n",
    "\tprint(\"--- 2D DP Table ---\")\n",
    "\tfor row in dp:\n",
    "\t\tprint(row)\n",
    "\tprint(\"-------------------\")\n",
    "\n",
    "\treturn total_sum - dp[n - 1][target] - dp[n - 1][target]\n",
    "\t\n",
    "\n",
    "res = lastStoneWeightII([2,7,4,1,8,1])\n",
    "res"
   ]
  },
  {
   "cell_type": "code",
   "execution_count": 32,
   "metadata": {},
   "outputs": [
    {
     "name": "stdout",
     "output_type": "stream",
     "text": [
      "找到 39 個圖檔，將分為 4 個資料夾。\n",
      "正在處理資料夾 '020'，包含 12 個圖檔...\n",
      "正在處理資料夾 '021'，包含 12 個圖檔...\n",
      "正在處理資料夾 '022'，包含 12 個圖檔...\n",
      "正在處理資料夾 '023'，包含 3 個圖檔...\n",
      "圖檔分類完成！\n"
     ]
    }
   ],
   "source": [
    "import os\n",
    "import shutil\n",
    "\n",
    "def classify_images(source_folder, images_per_folder=20, start_folder_num=1):\n",
    "    \"\"\"\n",
    "    將資料夾中的圖檔分類到新的資料夾中，每個資料夾包含指定數量的圖檔。\n",
    "\n",
    "    Args:\n",
    "        source_folder (str): 包含原始圖檔的資料夾路徑。\n",
    "        images_per_folder (int): 每個分類資料夾中要放置的圖檔數量。\n",
    "    \"\"\"\n",
    "\n",
    "    if not os.path.isdir(source_folder):\n",
    "        print(f\"錯誤：來源資料夾 '{source_folder}' 不存在。\")\n",
    "        return\n",
    "\n",
    "    # 1. 取得所有圖檔\n",
    "    image_files = []\n",
    "    for filename in os.listdir(source_folder):\n",
    "        # 這裡可以根據實際的圖檔類型進行篩選\n",
    "        if filename.lower().endswith(('.png', '.jpg', '.jpeg', '.gif', '.bmp', '.tiff')):\n",
    "            image_files.append(os.path.join(source_folder, filename))\n",
    "\n",
    "    if not image_files:\n",
    "        print(f\"在 '{source_folder}' 中找不到任何圖檔。\")\n",
    "        return\n",
    "\n",
    "    # 2. 排序圖檔 (按檔名排序)\n",
    "    image_files.sort()\n",
    "\n",
    "    # 3. 計算資料夾數量\n",
    "    num_images = len(image_files)\n",
    "    num_folders = (num_images + images_per_folder - 1) // images_per_folder # 向上取整\n",
    "\n",
    "    print(f\"找到 {num_images} 個圖檔，將分為 {num_folders} 個資料夾。\")\n",
    "\n",
    "    # 4. 建立資料夾並移動圖檔\n",
    "    for i in range(num_folders):\n",
    "        # 資料夾名稱格式化為三位數，例如 001, 002, ...\n",
    "        folder_name = f\"{i + start_folder_num:03d}\"\n",
    "        destination_folder = os.path.join(os.path.dirname(source_folder), folder_name) # 將新資料夾建立在與來源資料夾同層級\n",
    "\n",
    "        os.makedirs(destination_folder, exist_ok=True) # exist_ok=True 避免重複建立錯誤\n",
    "\n",
    "        start_index = i * images_per_folder\n",
    "        end_index = min((i + 1) * images_per_folder, num_images)\n",
    "        files_to_move = image_files[start_index:end_index]\n",
    "\n",
    "        print(f\"正在處理資料夾 '{folder_name}'，包含 {len(files_to_move)} 個圖檔...\")\n",
    "        for file_path in files_to_move:\n",
    "            try:\n",
    "                shutil.move(file_path, destination_folder)\n",
    "                # print(f\"  移動 '{os.path.basename(file_path)}' 到 '{folder_name}'\")\n",
    "            except Exception as e:\n",
    "                print(f\"移動檔案 '{os.path.basename(file_path)}' 時發生錯誤：{e}\")\n",
    "\n",
    "    print(\"圖檔分類完成！\")\n",
    "\n",
    "\n",
    "classify_images('/Users/lewis/Desktop/Project2/stable-diffusion-webui/outputs/txt2img-images/2025-06-16',\n",
    "                 images_per_folder=12,\n",
    "                 start_folder_num=20)"
   ]
  },
  {
   "cell_type": "code",
   "execution_count": null,
   "metadata": {},
   "outputs": [],
   "source": [
    "import os\n",
    "import shutil\n",
    "\n",
    "def flatten_images(target_directory=\".\", delete_empty_folders=True):\n",
    "    \"\"\"\n",
    "    將指定目錄及其所有子目錄中的圖檔攤平到指定目標目錄。\n",
    "\n",
    "    Args:\n",
    "        target_directory (str): 圖檔最終要移動到的目標目錄。預設為當前目錄。\n",
    "        delete_empty_folders (bool): 是否刪除移動圖檔後變空的子資料夾。預設為 True。\n",
    "    \"\"\"\n",
    "\n",
    "    # 確保目標目錄存在\n",
    "    os.makedirs(target_directory, exist_ok=True)\n",
    "\n",
    "    # 儲存所有要處理的圖檔路徑\n",
    "    image_paths = []\n",
    "    # 儲存所有處理過的資料夾，以便後續刪除空的\n",
    "    processed_folders = []\n",
    "\n",
    "    print(f\"正在掃描 '{os.path.abspath(target_directory)}' 及其子目錄中的圖檔...\")\n",
    "\n",
    "    # 遍歷當前目錄及其所有子目錄\n",
    "    for root, dirs, files in os.walk(target_directory):\n",
    "        # 排除目標目錄本身，避免移動到自己\n",
    "        if root == target_directory:\n",
    "            continue\n",
    "\n",
    "        processed_folders.append(root) # 記錄這個資料夾，可能需要刪除\n",
    "\n",
    "        for filename in files:\n",
    "            # 判斷是否為圖檔 (你可以根據需要增減副檔名)\n",
    "            if filename.lower().endswith(('.png', '.jpg', '.jpeg', '.gif', '.bmp', '.tiff', '.webp')):\n",
    "                source_path = os.path.join(root, filename)\n",
    "                image_paths.append(source_path)\n",
    "\n",
    "    if not image_paths:\n",
    "        print(\"沒有找到任何圖檔需要攤平。\")\n",
    "        return\n",
    "\n",
    "    print(f\"找到 {len(image_paths)} 個圖檔，準備進行攤平操作...\")\n",
    "\n",
    "    # 移動圖檔\n",
    "    for original_path in image_paths:\n",
    "        file_name = os.path.basename(original_path)\n",
    "        destination_path = os.path.join(target_directory, file_name)\n",
    "\n",
    "        # 處理檔名衝突：如果目標目錄已經有同名檔案，則重新命名\n",
    "        counter = 1\n",
    "        while os.path.exists(destination_path):\n",
    "            name, ext = os.path.splitext(file_name)\n",
    "            destination_path = os.path.join(target_directory, f\"{name}_{counter}{ext}\")\n",
    "            counter += 1\n",
    "\n",
    "        try:\n",
    "            shutil.move(original_path, destination_path)\n",
    "            # print(f\"  已移動 '{os.path.basename(original_path)}' 到 '{target_directory}'\")\n",
    "        except Exception as e:\n",
    "            print(f\"移動檔案 '{os.path.basename(original_path)}' 時發生錯誤：{e}\")\n",
    "\n",
    "    print(\"所有圖檔已攤平。\")\n",
    "\n",
    "    # 刪除空的子資料夾\n",
    "    if delete_empty_folders:\n",
    "        print(\"正在檢查並刪除空的子資料夾...\")\n",
    "        # 從最深的子資料夾開始刪除，避免父資料夾被過早刪除\n",
    "        for folder in sorted(processed_folders, key=len, reverse=True):\n",
    "            try:\n",
    "                # 再次檢查確保資料夾確實是空的，因為可能被其他檔案佔用\n",
    "                if not os.listdir(folder):\n",
    "                    os.rmdir(folder)\n",
    "                    # print(f\"  已刪除空的資料夾: '{folder}'\")\n",
    "            except OSError as e:\n",
    "                # 如果資料夾不為空或有權限問題，會拋出 OSError\n",
    "                # print(f\"  無法刪除資料夾 '{folder}' (可能不為空或權限問題)：{e}\")\n",
    "                pass # 忽略無法刪除的資料夾\n",
    "\n",
    "        print(\"空的子資料夾檢查完成。\")\n",
    "\n",
    "\n",
    "flatten_images('/Users/lewis/Desktop/Project2/stable-diffusion-webui/outputs/txt2img-images')"
   ]
  },
  {
   "cell_type": "code",
   "execution_count": 31,
   "metadata": {},
   "outputs": [
    {
     "data": {
      "text/plain": [
       "7"
      ]
     },
     "execution_count": 31,
     "metadata": {},
     "output_type": "execute_result"
    }
   ],
   "source": [
    "def bi_search(nums, target):\n",
    "\tleft = 0\n",
    "\tright = len(nums) - 1\n",
    "\twhile left <= right:\n",
    "\t\tmid = (left + right) // 2\n",
    "\t\tif nums[mid] > target:\n",
    "\t\t\tright = mid - 1\n",
    "\t\telif nums[mid] < target:\n",
    "\t\t\tleft = mid + 1\n",
    "\t\telse:\n",
    "\t\t\treturn mid\n",
    "\treturn -1\n",
    "\n",
    "bi_search([-1, 0, 3, 5, 9, 12, 16, 18 ,20, 90, 109], 18)"
   ]
  },
  {
   "cell_type": "code",
   "execution_count": 40,
   "metadata": {},
   "outputs": [
    {
     "data": {
      "text/plain": [
       "2"
      ]
     },
     "execution_count": 40,
     "metadata": {},
     "output_type": "execute_result"
    }
   ],
   "source": [
    "def find_max_content_children(g, s):\n",
    "\tg.sort()\n",
    "\ts.sort()\n",
    "\tindex = len(s) - 1\n",
    "\tmax_chidren = 0\n",
    "\tfor i in range(len(g) - 1, -1, -1):\n",
    "\t\tif index >= 0 and s[index] >= g[i]:\n",
    "\t\t\tmax_chidren += 1\n",
    "\t\t\tindex -= 1\n",
    "\treturn max_chidren\n",
    "\n",
    "find_max_content_children(g = [1, 2, 4], s = [1, 2, 3])"
   ]
  }
 ],
 "metadata": {
  "kernelspec": {
   "display_name": "base",
   "language": "python",
   "name": "python3"
  },
  "language_info": {
   "codemirror_mode": {
    "name": "ipython",
    "version": 3
   },
   "file_extension": ".py",
   "mimetype": "text/x-python",
   "name": "python",
   "nbconvert_exporter": "python",
   "pygments_lexer": "ipython3",
   "version": "3.10.10"
  }
 },
 "nbformat": 4,
 "nbformat_minor": 2
}
