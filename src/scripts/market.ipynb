{
 "cells": [
  {
   "cell_type": "code",
   "execution_count": 45,
   "metadata": {},
   "outputs": [],
   "source": [
    "from datetime import datetime\n",
    "import matplotlib.pyplot as plt\n",
    "import matplotlib.dates as mdates\n",
    "from api_util import read_token, BASE_URL, get_headers\n",
    "import requests\n",
    "\n",
    "def _make_get_request(endpoint, params=None, quiet=None):\n",
    "    \"\"\"共用的 HTTP GET 請求處理函數\"\"\"\n",
    "    try:\n",
    "        response = requests.get(f\"{BASE_URL}/{endpoint}\", headers=get_headers(read_token()), params=params)\n",
    "        response.raise_for_status()\n",
    "        result = response.json()\n",
    "        if not quiet: \n",
    "            print(result)\n",
    "        return result\n",
    "    except requests.exceptions.RequestException as err:\n",
    "        print(f\"Request failed: {err}\")\n",
    "        return None\n",
    "    \n",
    "def _make_post_request(endpoint, data, quiet=None):\n",
    "\ttry:\n",
    "\t\tresponse = requests.post(f\"{BASE_URL}/{endpoint}\", headers=get_headers(read_token()), json=data)\n",
    "\t\tresponse.raise_for_status()\n",
    "\t\tresult = response.json()\n",
    "\t\tif not quiet: \n",
    "\t\t\tprint(result)\n",
    "\t\treturn result\n",
    "\texcept requests.exceptions.RequestException as err:\n",
    "\t\tprint(f\"Request failed: {err}\")\n",
    "\t\treturn None\n",
    "            \n",
    "def get_all_momentum():\n",
    "    res = _make_get_request('market/momentum')\n",
    "    return res.get('data')\n",
    "\n",
    "def get_momentum_by_range(days):\n",
    "    res = _make_get_request(f'market/momentum/range/{days}')\n",
    "    return res.get('data')\n",
    "    \n",
    "def get_market_weights():\n",
    "    res = _make_get_request('market/weights')\n",
    "    return res.get('data')\n",
    "\n",
    "def get_stock_symbols():\n",
    "    res = _make_get_request('market/stock/symbols')\n",
    "    return res.get('data')\n",
    "\n",
    "def get_market_breadth():\n",
    "    res = _make_get_request('market/stock/breadth')\n",
    "    return res.get('data')\n",
    "\n",
    "def get_stock_winners():\n",
    "    res = _make_get_request('market/stock/winners')\n",
    "    return res.get('data')\n",
    "\n",
    "def get_stock_losers():\n",
    "    res = _make_get_request('market/stock/losers')\n",
    "    return res.get('data')\n",
    "\n",
    "def get_statement_by_symbol(symbol):\n",
    "    return _make_get_request(f\"statements/{symbol}\")\n",
    "\n",
    "def get_market_data_by_symbol(symbol, page=1, size=10):\n",
    "    res = _make_get_request(f'market/{symbol}', params={'page': page, 'size': size})\n",
    "    return res.get('data')\n",
    "\n",
    "\n",
    "def draw_line_chart(x_data, y_data, label, title, xlabel, ylabel, interval=10, figsize=(10, 6), color='#efb441'):\n",
    "    plt.figure(figsize=figsize)\n",
    "    plt.plot(x_data, y_data, marker='', linestyle='-', color=color, label=label)\n",
    "\n",
    "    plt.title(title)\n",
    "    plt.xlabel(xlabel)\n",
    "    plt.ylabel(ylabel)\n",
    "\n",
    "    plt.gca().xaxis.set_major_formatter(mdates.DateFormatter('%Y-%m-%d'))\n",
    "    plt.gca().xaxis.set_major_locator(mdates.DayLocator(interval=interval))\n",
    "    plt.gcf().autofmt_xdate()\n",
    "    plt.grid(True)\n",
    "\n",
    "    plt.legend()\n",
    "\n",
    "    plt.tight_layout()\n",
    "    plt.show()\n",
    "    \n",
    "def plot_pe_forward_vs_time(data):\n",
    "    timestamps = []\n",
    "    pe_forward_values = []\n",
    "    \n",
    "    for entry in data:\n",
    "        created_at = entry.get('createdAt', '')\n",
    "        pe_forward = entry.get('PE_Forward', None)\n",
    "        \n",
    "        if created_at and pe_forward is not None:\n",
    "            timestamp = datetime.strptime(created_at, \"%Y-%m-%dT%H:%M:%S.%fZ\")\n",
    "            timestamps.append(timestamp)\n",
    "            \n",
    "            pe_forward_values.append(float(pe_forward))\n",
    "    \n",
    "    draw_line_chart(timestamps, pe_forward_values, label='PE Forward', title='PE Forward vs Time', xlabel='Date', ylabel='PE Forward', figsize=(7, 5))\n",
    "    \n",
    "\n"
   ]
  },
  {
   "cell_type": "code",
   "execution_count": null,
   "metadata": {},
   "outputs": [],
   "source": [
    "symbol = 'BTCUSD'\n",
    "res = get_market_data_by_symbol(symbol, page=2, size=2)\n",
    "res"
   ]
  },
  {
   "cell_type": "code",
   "execution_count": null,
   "metadata": {},
   "outputs": [],
   "source": [
    "res = get_market_weights()\n",
    "res"
   ]
  },
  {
   "cell_type": "code",
   "execution_count": null,
   "metadata": {},
   "outputs": [],
   "source": [
    "breadth = get_market_breadth()\n",
    "breadth"
   ]
  },
  {
   "cell_type": "code",
   "execution_count": null,
   "metadata": {},
   "outputs": [],
   "source": [
    "my_data = get_all_momentum()\n",
    "for i in range(7):\n",
    "\tprint(my_data[i])"
   ]
  },
  {
   "cell_type": "code",
   "execution_count": null,
   "metadata": {},
   "outputs": [],
   "source": [
    "my_data = get_momentum_by_range(7)\n",
    "for i in range(7):\n",
    "\tprint(my_data[i])"
   ]
  },
  {
   "cell_type": "code",
   "execution_count": null,
   "metadata": {},
   "outputs": [],
   "source": [
    "import pandas as pd\n",
    "\n",
    "df = pd.DataFrame(my_data)\n",
    "\n",
    "df['createdAt'] = pd.to_datetime(df['createdAt'])\n",
    "draw_line_chart(df['createdAt'], df['volume'], label='Momentum', title='Time Series Momentum', xlabel='Time', ylabel='Volume', interval=1)"
   ]
  },
  {
   "cell_type": "code",
   "execution_count": null,
   "metadata": {},
   "outputs": [],
   "source": [
    "winners = get_stock_winners()\n",
    "for stock in winners:\n",
    "\tprint(stock.get('company'),'---', stock.get('dayChg'), '%')"
   ]
  },
  {
   "cell_type": "code",
   "execution_count": null,
   "metadata": {},
   "outputs": [],
   "source": [
    "losers = get_stock_losers()\n",
    "for stock in losers:\n",
    "\tprint(stock.get('company'),'---', stock.get('dayChg'), '%')"
   ]
  },
  {
   "cell_type": "code",
   "execution_count": null,
   "metadata": {},
   "outputs": [],
   "source": [
    "m7 = ['nvda', 'goog', 'meta', 'amzn', 'tsla', 'msft', 'crwd', 'pltr', 'coin']\n",
    "\n",
    "for item in m7:\n",
    "\tres = get_statement_by_symbol(item)\n",
    "\tdata = res.get('data')\n",
    "\tplot_pe_forward_vs_time(data[-500:])"
   ]
  }
 ],
 "metadata": {
  "kernelspec": {
   "display_name": "Python 3",
   "language": "python",
   "name": "python3"
  },
  "language_info": {
   "codemirror_mode": {
    "name": "ipython",
    "version": 3
   },
   "file_extension": ".py",
   "mimetype": "text/x-python",
   "name": "python",
   "nbconvert_exporter": "python",
   "pygments_lexer": "ipython3",
   "version": "3.10.10"
  }
 },
 "nbformat": 4,
 "nbformat_minor": 2
}
